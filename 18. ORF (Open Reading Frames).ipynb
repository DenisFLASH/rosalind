{
 "cells": [
  {
   "cell_type": "code",
   "execution_count": 41,
   "metadata": {
    "collapsed": false
   },
   "outputs": [],
   "source": [
    "from lookup import rna_codon_to_amino_acid\n",
    "from tools import read_fasta_file, reverse_complement, find_indices_of_matches, transcribe_DNA_to_RNA, translate_rna_into_protein"
   ]
  },
  {
   "cell_type": "code",
   "execution_count": 34,
   "metadata": {
    "collapsed": true
   },
   "outputs": [],
   "source": [
    "def get_open_reading_frame(s):\n",
    "    \"\"\"\n",
    "    Return a substring between start (including) and the first stop codon (not including), counting by 3 nucleotides.\n",
    "    If such substring does not exist, return empty string.\n",
    "    \"\"\"\n",
    "    try:\n",
    "        start_index = s.index('ATG')\n",
    "    except ValueError:\n",
    "        print('Started codon not found')\n",
    "        return ''\n",
    "    \n",
    "    codons = list()\n",
    "    STOP_CODONS = ['TAA', 'TAG', 'TGA']\n",
    "    for i in range(start_index, len(s), 3):\n",
    "        codon = s[i:i+3]\n",
    "        if codon in STOP_CODONS:\n",
    "            return ''.join(codons)\n",
    "        else:\n",
    "            codons.append(codon)\n",
    "    return ''"
   ]
  },
  {
   "cell_type": "code",
   "execution_count": 52,
   "metadata": {
    "collapsed": false
   },
   "outputs": [],
   "source": [
    "def translate_all_orfs_into_proteins(dna_string):\n",
    "    \"\"\"\n",
    "    Return every distinct candidate protein string that can be translated from ORFs of the given DNA stirng.\n",
    "    \"\"\"\n",
    "    # In the given DNA string, find all substrings which start from ANY occurence of the start codon 'ATG'\n",
    "    # and go till the end of the DNA string.\n",
    "    # Then find all such strings obtained from the reverse complement of the given DNA string.\n",
    "    strings_starting_by_start_codon = list()\n",
    "    START_CODON = 'ATG'\n",
    "    for s in [dna_string, reverse_complement(dna_string)]:\n",
    "        start_indices = find_indices_of_matches(s, START_CODON, base=0)\n",
    "        for i in start_indices:\n",
    "            strings_starting_by_start_codon.append(s[i:])\n",
    "               \n",
    "    # Finally, for all these candidate strings, we look for Open Reading Frames (ORF),\n",
    "    # and translating them to protein strings\n",
    "    proteins = list()\n",
    "    for s in strings_starting_by_start_codon:\n",
    "        orf = get_open_reading_frame(s)\n",
    "        if len(orf) > 0:\n",
    "            rna = transcribe_DNA_to_RNA(orf)\n",
    "            protein = translate_rna_into_protein(rna)\n",
    "            if protein not in proteins:\n",
    "                proteins.append(protein)\n",
    "    return proteins\n",
    "    "
   ]
  },
  {
   "cell_type": "code",
   "execution_count": 53,
   "metadata": {
    "collapsed": false
   },
   "outputs": [],
   "source": [
    "def solve(path):\n",
    "    d = read_fasta_file(path)\n",
    "    first_dna = list(d.values())[0]\n",
    "    proteins = translate_all_orfs_into_proteins(first_dna)\n",
    "    print('\\n'.join(proteins))"
   ]
  },
  {
   "cell_type": "code",
   "execution_count": 54,
   "metadata": {
    "collapsed": false
   },
   "outputs": [
    {
     "name": "stdout",
     "output_type": "stream",
     "text": [
      "M\n",
      "MGMTPRLGLESLLE\n",
      "MTPRLGLESLLE\n",
      "MLLGSFRLIPKETLIQVAGSSPCNLS\n"
     ]
    }
   ],
   "source": [
    "# Test\n",
    "solve('./txt/rosalind_orf_test.txt')"
   ]
  },
  {
   "cell_type": "code",
   "execution_count": 55,
   "metadata": {
    "collapsed": false
   },
   "outputs": [
    {
     "name": "stdout",
     "output_type": "stream",
     "text": [
      "MSNKEHHSPIN\n",
      "MCVPNVIGLELKSLLQ\n",
      "MSSV\n",
      "MVQPHAPDKN\n",
      "MPRTKTSYSGV\n",
      "MSGFIWHCSTSPTVLRVGVACKRAETVLHMIAIFGIS\n",
      "MALFNQPNSFKGWSGLQESGDGSPHDRNLRYLLIGVATPIRRYRRLRSWEWFCSIVKLCRGRYTRDFDFSMAV\n",
      "MIAIFGIS\n",
      "MGMVLFYR\n",
      "MVLFYR\n",
      "M\n",
      "MAV\n",
      "MDRPVLEVLVAARSLISAPEPLIDQAAQ\n",
      "MHAGTNMSGRSNHYGKLHYMSNYSDQRTRMGNEN\n",
      "MSGRSNHYGKLHYMSNYSDQRTRMGNEN\n",
      "MSNYSDQRTRMGNEN\n",
      "MGNEN\n",
      "MLMLGLEK\n",
      "MLGLEK\n",
      "MNIYISSDRKWGSSGPYLVQPL\n",
      "MG\n",
      "MFI\n",
      "MVYALLKSVLVSHARPLIRVVGHVMQFTVVIRPAAHVCPGVHNLLCCLIDQWFRC\n",
      "MRVR\n",
      "MQFTVVIRPAAHVCPGVHNLLCCLIDQWFRC\n",
      "MFVPACIIYCAA\n",
      "MWRTVSALLQATPTLKTVGLVEQCHIKPDISSRTARHTPE\n",
      "MRLNHY\n",
      "MTLGTHIRRY\n",
      "MVLFVRHRTSFFLTTCRCLSS\n",
      "MSFKLASRGL\n"
     ]
    }
   ],
   "source": [
    "# Submission\n",
    "solve('./txt/rosalind_orf.txt')"
   ]
  }
 ],
 "metadata": {
  "kernelspec": {
   "display_name": "Python 3",
   "language": "python",
   "name": "python3"
  },
  "language_info": {
   "codemirror_mode": {
    "name": "ipython",
    "version": 3
   },
   "file_extension": ".py",
   "mimetype": "text/x-python",
   "name": "python",
   "nbconvert_exporter": "python",
   "pygments_lexer": "ipython3",
   "version": "3.4.3"
  }
 },
 "nbformat": 4,
 "nbformat_minor": 0
}
