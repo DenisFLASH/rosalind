{
 "cells": [
  {
   "cell_type": "markdown",
   "metadata": {},
   "source": [
    "A protein motif is represented by a shorthand as follows: [XY] means \"either X or Y\" and {X} means \"any amino acid except X.\" \n",
    "\n",
    "For example, the **N-glycosylation motif** is written as **N{P}[ST]{P}**."
   ]
  },
  {
   "cell_type": "code",
   "execution_count": 1,
   "metadata": {
    "collapsed": true
   },
   "outputs": [],
   "source": [
    "from tools import read_local_file, read_fasta_file, find_indices_of_matches"
   ]
  },
  {
   "cell_type": "code",
   "execution_count": 9,
   "metadata": {
    "collapsed": false
   },
   "outputs": [],
   "source": [
    "def solve(path):\n",
    "    ids = read_local_file(path)\n",
    "    N_glycosylation_motif = 'N[^P][ST][^P]'\n",
    "    for uniProtID in ids:\n",
    "        url = 'http://www.uniprot.org/uniprot/{0}.fasta'.format(uniProtID)\n",
    "        #print(\"parsing\", url)\n",
    "        fasta = read_fasta_file(url)\n",
    "        for key in fasta:\n",
    "            positions = find_indices_of_matches(fasta[key], N_glycosylation_motif)\n",
    "            #print(len(positions), \"appearances of N-glycosylation motif found\")\n",
    "            if len(positions) > 0:\n",
    "                print(uniProtID)\n",
    "                print(' '.join([str(pos) for pos in positions]))"
   ]
  },
  {
   "cell_type": "code",
   "execution_count": 10,
   "metadata": {
    "collapsed": false
   },
   "outputs": [
    {
     "name": "stdout",
     "output_type": "stream",
     "text": [
      "B5ZC00\n",
      "85 118 142 306 395\n",
      "P07204_TRBM_HUMAN\n",
      "47 115 116 382 409\n",
      "P20840_SAG1_YEAST\n",
      "79 109 135 248 306 348 364 402 485 501 614\n"
     ]
    }
   ],
   "source": [
    "# Test\n",
    "solve('./txt/rosalind_mprt_test.txt')"
   ]
  },
  {
   "cell_type": "code",
   "execution_count": 11,
   "metadata": {
    "collapsed": false,
    "scrolled": true
   },
   "outputs": [
    {
     "name": "stdout",
     "output_type": "stream",
     "text": [
      "A5F5B4\n",
      "68\n",
      "P19246_NFH_MOUSE\n",
      "120\n",
      "P01217_GLHA_BOVIN\n",
      "80 106\n",
      "A6UDH9\n",
      "207\n",
      "Q9LHF1\n",
      "3 4 60 94 106 289 340\n",
      "P01046_KNL1_BOVIN\n",
      "47 87 168 169 197 204\n",
      "P10761_ZP3_MOUSE\n",
      "146 273 304 327 330\n",
      "P01047_KNL2_BOVIN\n",
      "47 87 168 169 197 204 280\n",
      "P00742_FA10_HUMAN\n",
      "221 231\n",
      "Q2GBA3\n",
      "155\n",
      "P12923\n",
      "49 55 87\n"
     ]
    }
   ],
   "source": [
    "# Submission\n",
    "solve('./txt/rosalind_mprt.txt')"
   ]
  }
 ],
 "metadata": {
  "kernelspec": {
   "display_name": "Python 3",
   "language": "python",
   "name": "python3"
  },
  "language_info": {
   "codemirror_mode": {
    "name": "ipython",
    "version": 3
   },
   "file_extension": ".py",
   "mimetype": "text/x-python",
   "name": "python",
   "nbconvert_exporter": "python",
   "pygments_lexer": "ipython3",
   "version": "3.4.3"
  }
 },
 "nbformat": 4,
 "nbformat_minor": 0
}
