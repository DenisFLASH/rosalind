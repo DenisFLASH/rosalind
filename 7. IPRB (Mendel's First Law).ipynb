{
 "cells": [
  {
   "cell_type": "code",
   "execution_count": 13,
   "metadata": {
    "collapsed": true
   },
   "outputs": [],
   "source": [
    "def punnett_square(factor1, factor2):\n",
    "    \"\"\"\n",
    "    Args:\n",
    "        + factor1,2 (str): 2 characters string representing a factor composed of 2 alleles\n",
    "    Returns:\n",
    "        {str: float} dict : probabilities of each possible outcome of mating process\n",
    "    \"\"\"\n",
    "    outcome_probs = {}\n",
    "    for allele_f1 in factor1:\n",
    "        for allele_f2 in factor2:\n",
    "            outcome = ''.join(sorted([allele_f1, allele_f2]))\n",
    "            if outcome in outcome_probs:\n",
    "                outcome_probs[outcome] += 1\n",
    "            else:\n",
    "                outcome_probs[outcome] = 1\n",
    "    # Normalizing to obtain total probability equal 1\n",
    "    for outcome in outcome_probs:\n",
    "        outcome_probs[outcome] /= 4\n",
    "    return outcome_probs\n",
    "    "
   ]
  },
  {
   "cell_type": "code",
   "execution_count": 18,
   "metadata": {
    "collapsed": true
   },
   "outputs": [],
   "source": [
    "def prob_dominant_allele(outcome_probs):\n",
    "    \"\"\"\n",
    "    Probability that individual produced by 2 mating organisms will have a dominant allele.\n",
    "    \n",
    "    Args:\n",
    "        + ({str: float} dict): probability of mating outcomes\n",
    "    Returns:\n",
    "        (float): probability for resulting individual to have a dominant allele\n",
    "    \"\"\"\n",
    "    total_prob = 0\n",
    "    for key in outcome_probs:\n",
    "        if 'A' in key:\n",
    "            total_prob += outcome_probs[key]\n",
    "    return total_prob"
   ]
  },
  {
   "cell_type": "code",
   "execution_count": 39,
   "metadata": {
    "collapsed": true
   },
   "outputs": [],
   "source": [
    "def mating_probability(k, m, n):\n",
    "    \"\"\"\n",
    "    Given a population of organisms, get the probability of different mating pairs.\n",
    "    \n",
    "    Args:\n",
    "        + k (int): number of homozygous dominant organisms ('AA')\n",
    "        + m (int): number of heterozygous organisms ('Aa')\n",
    "        + n (int): number of homozygous recessive organisms ('aa')\n",
    "    \n",
    "    Returns: (dict) where \n",
    "            key (str, str): pair of factors\n",
    "            value (float): probability\n",
    "    \"\"\"\n",
    "    N = k + m + n\n",
    "    denominator = N * (N - 1)\n",
    "    return {\\\n",
    "            ('AA','AA'): k * (k - 1) / denominator,\\\n",
    "            ('Aa','Aa'): m * (m - 1) / denominator,\\\n",
    "            ('aa','aa'): n * (n - 1) / denominator,\\\n",
    "            ('AA','Aa'): 2 * k * m / denominator,\\\n",
    "            ('AA','aa'): 2 * k * n / denominator,\\\n",
    "            ('Aa','aa'): 2 * m * n / denominator\\\n",
    "           }"
   ]
  },
  {
   "cell_type": "code",
   "execution_count": 46,
   "metadata": {
    "collapsed": false
   },
   "outputs": [],
   "source": [
    "def solve(k, m, n):\n",
    "    \"\"\"\n",
    "    Given a population of organisms, get the probability that two randomly selected mating organisms \n",
    "    will produce an individual possessing a dominant allele (and thus displaying the dominant phenotype). \n",
    "    Assume that any two organisms can mate.\n",
    "    \n",
    "    Args:\n",
    "        + k (int): number of homozygous dominant organisms ('AA')\n",
    "        + m (int): number of heterozygous organisms ('Aa')\n",
    "        + n (int): number of homozygous recessive organisms ('aa')\n",
    "\n",
    "    Returns: (float) the probability that produced individual will posses a dominant allele.\n",
    "    \"\"\"\n",
    "    total_prob_dominant_allele = 0\n",
    "    mating_probs = mating_probability(k, m, n)\n",
    "    for key in mating_probs:\n",
    "        print(key, mating_probs[key])\n",
    "        square = punnett_square(key[0], key[1])\n",
    "        print(square)\n",
    "        prob_dominant = prob_dominant_allele(square)\n",
    "        print(prob_dominant)\n",
    "        total_prob_dominant_allele += mating_probs[key] * prob_dominant\n",
    "    return total_prob_dominant_allele"
   ]
  },
  {
   "cell_type": "code",
   "execution_count": 48,
   "metadata": {
    "collapsed": false
   },
   "outputs": [
    {
     "name": "stdout",
     "output_type": "stream",
     "text": [
      "('Aa', 'aa') 0.26666666666666666\n",
      "{'Aa': 0.5, 'aa': 0.5}\n",
      "0.5\n",
      "('AA', 'AA') 0.06666666666666667\n",
      "{'AA': 1.0}\n",
      "1.0\n",
      "('AA', 'aa') 0.26666666666666666\n",
      "{'Aa': 1.0}\n",
      "1.0\n",
      "('AA', 'Aa') 0.26666666666666666\n",
      "{'Aa': 0.5, 'AA': 0.5}\n",
      "1.0\n",
      "('Aa', 'Aa') 0.06666666666666667\n",
      "{'Aa': 0.5, 'AA': 0.25, 'aa': 0.25}\n",
      "0.75\n",
      "('aa', 'aa') 0.06666666666666667\n",
      "{'aa': 1.0}\n",
      "0\n"
     ]
    },
    {
     "data": {
      "text/plain": [
       "0.7833333333333334"
      ]
     },
     "execution_count": 48,
     "metadata": {},
     "output_type": "execute_result"
    }
   ],
   "source": [
    "# Test\n",
    "solve(2, 2, 2)"
   ]
  },
  {
   "cell_type": "code",
   "execution_count": 49,
   "metadata": {
    "collapsed": false
   },
   "outputs": [
    {
     "name": "stdout",
     "output_type": "stream",
     "text": [
      "('Aa', 'aa') 0.27137042062415195\n",
      "{'Aa': 0.5, 'aa': 0.5}\n",
      "0.5\n",
      "('AA', 'AA') 0.06919945725915876\n",
      "{'AA': 1.0}\n",
      "1.0\n",
      "('AA', 'aa') 0.19538670284938942\n",
      "{'Aa': 1.0}\n",
      "1.0\n",
      "('AA', 'Aa') 0.20352781546811397\n",
      "{'Aa': 0.5, 'AA': 0.5}\n",
      "1.0\n",
      "('Aa', 'Aa') 0.13568521031207598\n",
      "{'Aa': 0.5, 'AA': 0.25, 'aa': 0.25}\n",
      "0.75\n",
      "('aa', 'aa') 0.1248303934871099\n",
      "{'aa': 1.0}\n",
      "0\n"
     ]
    },
    {
     "data": {
      "text/plain": [
       "0.7055630936227951"
      ]
     },
     "execution_count": 49,
     "metadata": {},
     "output_type": "execute_result"
    }
   ],
   "source": [
    "# Submission\n",
    "solve(18, 25, 24)"
   ]
  },
  {
   "cell_type": "code",
   "execution_count": null,
   "metadata": {
    "collapsed": true
   },
   "outputs": [],
   "source": []
  }
 ],
 "metadata": {
  "kernelspec": {
   "display_name": "Python 3",
   "language": "python",
   "name": "python3"
  },
  "language_info": {
   "codemirror_mode": {
    "name": "ipython",
    "version": 3
   },
   "file_extension": ".py",
   "mimetype": "text/x-python",
   "name": "python",
   "nbconvert_exporter": "python",
   "pygments_lexer": "ipython3",
   "version": "3.4.3"
  }
 },
 "nbformat": 4,
 "nbformat_minor": 0
}
