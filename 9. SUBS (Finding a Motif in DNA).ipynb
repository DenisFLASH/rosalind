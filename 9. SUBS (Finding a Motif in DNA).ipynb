{
 "cells": [
  {
   "cell_type": "code",
   "execution_count": 6,
   "metadata": {
    "collapsed": false
   },
   "outputs": [],
   "source": [
    "import re"
   ]
  },
  {
   "cell_type": "code",
   "execution_count": 1,
   "metadata": {
    "collapsed": true
   },
   "outputs": [],
   "source": [
    "def read_lines(path):\n",
    "    lines = []\n",
    "    with open(path, 'r') as in_file:\n",
    "        for line in in_file:\n",
    "            lines.append(line.strip())\n",
    "    return lines"
   ]
  },
  {
   "cell_type": "markdown",
   "metadata": {},
   "source": [
    "regex pattern including **lookahead** assertion **(?=...)**"
   ]
  },
  {
   "cell_type": "code",
   "execution_count": 40,
   "metadata": {
    "collapsed": false
   },
   "outputs": [],
   "source": [
    "def find_indices_of_matches(s, t):\n",
    "    starting_positions = list()\n",
    "    pattern = r'(?=({0})).'.format(t)\n",
    "    matches = re.finditer(pattern, s)\n",
    "    for match in matches:\n",
    "        # Add 1 to get 1-based positions\n",
    "        print(match.start() + 1, match.group(1), end=', ')\n",
    "        starting_positions.append(match.start() + 1)\n",
    "    print('\\n' + ' '.join([str(pos) for pos in starting_positions]))"
   ]
  },
  {
   "cell_type": "code",
   "execution_count": 44,
   "metadata": {
    "collapsed": false
   },
   "outputs": [
    {
     "name": "stdout",
     "output_type": "stream",
     "text": [
      "GATATATGCATATACTT\n",
      "ATAT\n",
      "2 ATAT, 4 ATAT, 10 ATAT, \n",
      "2 4 10\n"
     ]
    }
   ],
   "source": [
    "# Test \n",
    "lines = read_lines('./txt/rosalind_subs_test.txt')\n",
    "s = lines[0]\n",
    "t = lines[1]\n",
    "print(s)\n",
    "print(t)\n",
    "find_indices_of_matches(s, t)"
   ]
  },
  {
   "cell_type": "code",
   "execution_count": 45,
   "metadata": {
    "collapsed": false
   },
   "outputs": [
    {
     "name": "stdout",
     "output_type": "stream",
     "text": [
      "AATAGACGTGCATGAATAGACAATAGACGCCCTAATAGACGCAATAGACAGGGAGGGGTGAATAGACAGCCTTGCACAATAGACCTCGAATAGACAATAGACGTCAATAGACAAATAGACCATCAAATAGACAATAGACAGACCGAATAGACTAATAGACATGACAATAGACGAATAGACACCAGTTCTGGCCAATAGACGAATAGACTAATACGAATAGACGAATAGACAAAAATAGACCTCGAATAGACACCTAATAGACGACGCAATAGACCAAATAGACGATCGCCGTAAAAATAGACAATAGACAATAGACCACGAATAGACGAATAGACAATAGACATAAATAGACAATAGACTTAATAGACTAGCAATAGACTCAATTCGCGAAATAGACCAACAAGAATAGACGGTAATAGACAATAGACGAATAGACTCCAATAGACTCGCTAATAGACTAAATAGACTCGATGGGGAAGAGAATAGACACAATAGACAATAGACCAATAGACAATAGACCCGAAATAGACTGTTACTACGCGAATAGACAATAGACGGTATAATAGACTAATAGACCAGAAAATAGACGCATAATAGACCGAGTGGTTGAAATAGACGAAAATAGACGTAAACTTCATAATAGACGACCCTCTCAATAGACAATAGACAATAGACAATAGACAATAGACTGAAATAGACAAATAGACGAATAGACAATAGACAAAATAGACGTCCGTCGTAAAATAGACAATAGACGAATAGACTCCAATAGACCAATAGACAATAGACATTAATAGACCTAATAGACATCCAAATAGACGCGCAAATAGACTTCCTTATTGGAAATAGACAATAGACAATAGACATAATAGACAATAGACAAAATAGACCCTCAATAGACAATAGACAATAGACCAATAGACAATAGACAATAGACAATAGAC\n",
      "AATAGACAA\n",
      "15 AATAGACAA, 89 AATAGACAA, 106 AATAGACAA, 126 AATAGACAA, 224 AATAGACAA, 296 AATAGACAA, 303 AATAGACAA, 329 AATAGACAA, 346 AATAGACAA, 415 AATAGACAA, 491 AATAGACAA, 506 AATAGACAA, 543 AATAGACAA, 655 AATAGACAA, 662 AATAGACAA, 669 AATAGACAA, 676 AATAGACAA, 693 AATAGACAA, 709 AATAGACAA, 716 AATAGACAA, 743 AATAGACAA, 776 AATAGACAA, 845 AATAGACAA, 852 AATAGACAA, 868 AATAGACAA, 875 AATAGACAA, 895 AATAGACAA, 902 AATAGACAA, 917 AATAGACAA, 924 AATAGACAA, 931 AATAGACAA, \n",
      "15 89 106 126 224 296 303 329 346 415 491 506 543 655 662 669 676 693 709 716 743 776 845 852 868 875 895 902 917 924 931\n"
     ]
    }
   ],
   "source": [
    "# Submission \n",
    "lines = read_lines('./txt/rosalind_subs.txt')\n",
    "s = lines[0]\n",
    "t = lines[1]\n",
    "print(s)\n",
    "print(t)\n",
    "find_indices_of_matches(s, t)"
   ]
  }
 ],
 "metadata": {
  "kernelspec": {
   "display_name": "Python 3",
   "language": "python",
   "name": "python3"
  },
  "language_info": {
   "codemirror_mode": {
    "name": "ipython",
    "version": 3
   },
   "file_extension": ".py",
   "mimetype": "text/x-python",
   "name": "python",
   "nbconvert_exporter": "python",
   "pygments_lexer": "ipython3",
   "version": "3.4.3"
  }
 },
 "nbformat": 4,
 "nbformat_minor": 0
}
