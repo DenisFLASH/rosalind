{
 "cells": [
  {
   "cell_type": "code",
   "execution_count": 13,
   "metadata": {
    "collapsed": true
   },
   "outputs": [],
   "source": [
    "from tools import read_fasta_file, reverse_complement"
   ]
  },
  {
   "cell_type": "code",
   "execution_count": 59,
   "metadata": {
    "collapsed": true
   },
   "outputs": [],
   "source": [
    "def find_reverse_palindromes(text):\n",
    "    \"\"\"\n",
    "    Find all reverse palindromes (genomic strings that are equal to their reverse complements) \n",
    "    and their positions in a genome.\n",
    "    \n",
    "    Running time: O(N*k), where k is 8 on average\n",
    "    \"\"\"\n",
    "    N = len(text)\n",
    "    reverse_palindromes = list()\n",
    "    for substring_length in [4, 6, 8, 10, 12]: \n",
    "        for i in range(N - substring_length + 1):        # O(N)\n",
    "            subs = text[i:i+substring_length]\n",
    "            # Reverse palindrome\n",
    "            if is_reverse_palindrome(subs):    # O(|subs|) = between O(2*4) and O(12)\n",
    "                reverse_palindromes.append((i+1, subs))\n",
    "    return reverse_palindromes        "
   ]
  },
  {
   "cell_type": "code",
   "execution_count": 56,
   "metadata": {
    "collapsed": true
   },
   "outputs": [],
   "source": [
    "def is_reverse_palindrome(pattern):\n",
    "    \"\"\"\n",
    "    Better algorithm, that compares the first half of a pattern to the reverse complement of the second.\n",
    "    No need to compute all the string's reverse complement, and then compare all the caracters with the original string.\n",
    "    \n",
    "    Running time:  0(len|pattern|)\n",
    "    \"\"\"\n",
    "    k = len(pattern)\n",
    "    # if odd length, central character is never a reverse complement of itself\n",
    "    if k % 2 == 1:\n",
    "        return False\n",
    "    else:\n",
    "        complement = {'A': 'T', 'C': 'G', 'G': 'C', 'T': 'A'}\n",
    "        for i in range(int(k/2)):\n",
    "            if pattern[i] != complement[pattern[k-i-1]]:  # 0-5, 1-4, 2-3\n",
    "                return False\n",
    "    return True"
   ]
  },
  {
   "cell_type": "code",
   "execution_count": 57,
   "metadata": {
    "collapsed": false
   },
   "outputs": [],
   "source": [
    "def solve(path):\n",
    "    d = read_fasta_file(path)\n",
    "    for key in d:\n",
    "        for i, pal in sorted(find_reverse_palindromes(d[key])):\n",
    "            print(i, len(pal))#, pal)"
   ]
  },
  {
   "cell_type": "code",
   "execution_count": 60,
   "metadata": {
    "collapsed": false
   },
   "outputs": [
    {
     "name": "stdout",
     "output_type": "stream",
     "text": [
      "4 6\n",
      "5 4\n",
      "6 6\n",
      "7 4\n",
      "17 4\n",
      "18 4\n",
      "20 6\n",
      "21 4\n"
     ]
    }
   ],
   "source": [
    "solve('./txt/rosalind_revp_test.txt')"
   ]
  },
  {
   "cell_type": "code",
   "execution_count": 61,
   "metadata": {
    "collapsed": false
   },
   "outputs": [
    {
     "name": "stdout",
     "output_type": "stream",
     "text": [
      "1 4\n",
      "7 6\n",
      "8 4\n",
      "23 6\n",
      "24 4\n",
      "44 6\n",
      "45 4\n",
      "57 6\n",
      "58 4\n",
      "65 4\n",
      "73 4\n",
      "95 4\n",
      "104 4\n",
      "108 8\n",
      "109 6\n",
      "110 4\n",
      "139 4\n",
      "153 6\n",
      "154 4\n",
      "163 6\n",
      "164 4\n",
      "173 8\n",
      "174 6\n",
      "175 4\n",
      "229 4\n",
      "234 4\n",
      "239 4\n",
      "244 4\n",
      "246 4\n",
      "269 6\n",
      "270 4\n",
      "271 6\n",
      "272 4\n",
      "281 4\n",
      "284 4\n",
      "290 4\n",
      "299 6\n",
      "300 4\n",
      "306 4\n",
      "321 4\n",
      "372 6\n",
      "373 4\n",
      "380 4\n",
      "389 4\n",
      "400 4\n",
      "408 4\n",
      "429 4\n",
      "437 6\n",
      "438 4\n",
      "440 4\n",
      "448 6\n",
      "449 4\n",
      "460 4\n",
      "463 4\n",
      "484 4\n",
      "484 12\n",
      "485 10\n",
      "486 8\n",
      "487 6\n",
      "488 4\n",
      "492 4\n",
      "502 6\n",
      "503 4\n",
      "527 4\n",
      "530 4\n",
      "534 6\n",
      "535 4\n",
      "542 4\n",
      "548 4\n",
      "557 4\n",
      "580 4\n",
      "581 4\n",
      "597 4\n",
      "598 4\n",
      "647 4\n",
      "647 6\n",
      "648 4\n",
      "648 6\n",
      "649 4\n",
      "650 4\n",
      "670 6\n",
      "671 4\n",
      "711 4\n",
      "714 4\n",
      "730 4\n",
      "743 4\n",
      "759 4\n",
      "774 6\n",
      "775 4\n",
      "776 6\n",
      "777 4\n",
      "799 4\n",
      "834 4\n",
      "852 4\n",
      "854 4\n",
      "860 4\n",
      "887 6\n",
      "888 4\n",
      "890 4\n",
      "903 6\n",
      "904 4\n",
      "952 4\n",
      "955 4\n",
      "972 4\n",
      "972 6\n",
      "973 4\n",
      "973 6\n",
      "974 4\n",
      "975 4\n"
     ]
    }
   ],
   "source": [
    "solve('./txt/rosalind_revp.txt')"
   ]
  }
 ],
 "metadata": {
  "kernelspec": {
   "display_name": "Python 3",
   "language": "python",
   "name": "python3"
  },
  "language_info": {
   "codemirror_mode": {
    "name": "ipython",
    "version": 3
   },
   "file_extension": ".py",
   "mimetype": "text/x-python",
   "name": "python",
   "nbconvert_exporter": "python",
   "pygments_lexer": "ipython3",
   "version": "3.4.3"
  }
 },
 "nbformat": 4,
 "nbformat_minor": 0
}
