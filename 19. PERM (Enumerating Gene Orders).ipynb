{
 "cells": [
  {
   "cell_type": "code",
   "execution_count": 1,
   "metadata": {
    "collapsed": true
   },
   "outputs": [],
   "source": [
    "from itertools import permutations"
   ]
  },
  {
   "cell_type": "code",
   "execution_count": 18,
   "metadata": {
    "collapsed": false
   },
   "outputs": [],
   "source": [
    "def solve(n):\n",
    "    all_permutations = list(permutations(range(1,n+1)))\n",
    "    print(len(all_permutations))\n",
    "    for perm in all_permutations:\n",
    "        print(' '.join([str(element) for element in perm]))"
   ]
  },
  {
   "cell_type": "code",
   "execution_count": 19,
   "metadata": {
    "collapsed": false
   },
   "outputs": [
    {
     "name": "stdout",
     "output_type": "stream",
     "text": [
      "6\n",
      "1 2 3\n",
      "1 3 2\n",
      "2 1 3\n",
      "2 3 1\n",
      "3 1 2\n",
      "3 2 1\n"
     ]
    }
   ],
   "source": [
    "# Test\n",
    "solve(3)"
   ]
  },
  {
   "cell_type": "code",
   "execution_count": 20,
   "metadata": {
    "collapsed": false
   },
   "outputs": [
    {
     "name": "stdout",
     "output_type": "stream",
     "text": [
      "120\n",
      "1 2 3 4 5\n",
      "1 2 3 5 4\n",
      "1 2 4 3 5\n",
      "1 2 4 5 3\n",
      "1 2 5 3 4\n",
      "1 2 5 4 3\n",
      "1 3 2 4 5\n",
      "1 3 2 5 4\n",
      "1 3 4 2 5\n",
      "1 3 4 5 2\n",
      "1 3 5 2 4\n",
      "1 3 5 4 2\n",
      "1 4 2 3 5\n",
      "1 4 2 5 3\n",
      "1 4 3 2 5\n",
      "1 4 3 5 2\n",
      "1 4 5 2 3\n",
      "1 4 5 3 2\n",
      "1 5 2 3 4\n",
      "1 5 2 4 3\n",
      "1 5 3 2 4\n",
      "1 5 3 4 2\n",
      "1 5 4 2 3\n",
      "1 5 4 3 2\n",
      "2 1 3 4 5\n",
      "2 1 3 5 4\n",
      "2 1 4 3 5\n",
      "2 1 4 5 3\n",
      "2 1 5 3 4\n",
      "2 1 5 4 3\n",
      "2 3 1 4 5\n",
      "2 3 1 5 4\n",
      "2 3 4 1 5\n",
      "2 3 4 5 1\n",
      "2 3 5 1 4\n",
      "2 3 5 4 1\n",
      "2 4 1 3 5\n",
      "2 4 1 5 3\n",
      "2 4 3 1 5\n",
      "2 4 3 5 1\n",
      "2 4 5 1 3\n",
      "2 4 5 3 1\n",
      "2 5 1 3 4\n",
      "2 5 1 4 3\n",
      "2 5 3 1 4\n",
      "2 5 3 4 1\n",
      "2 5 4 1 3\n",
      "2 5 4 3 1\n",
      "3 1 2 4 5\n",
      "3 1 2 5 4\n",
      "3 1 4 2 5\n",
      "3 1 4 5 2\n",
      "3 1 5 2 4\n",
      "3 1 5 4 2\n",
      "3 2 1 4 5\n",
      "3 2 1 5 4\n",
      "3 2 4 1 5\n",
      "3 2 4 5 1\n",
      "3 2 5 1 4\n",
      "3 2 5 4 1\n",
      "3 4 1 2 5\n",
      "3 4 1 5 2\n",
      "3 4 2 1 5\n",
      "3 4 2 5 1\n",
      "3 4 5 1 2\n",
      "3 4 5 2 1\n",
      "3 5 1 2 4\n",
      "3 5 1 4 2\n",
      "3 5 2 1 4\n",
      "3 5 2 4 1\n",
      "3 5 4 1 2\n",
      "3 5 4 2 1\n",
      "4 1 2 3 5\n",
      "4 1 2 5 3\n",
      "4 1 3 2 5\n",
      "4 1 3 5 2\n",
      "4 1 5 2 3\n",
      "4 1 5 3 2\n",
      "4 2 1 3 5\n",
      "4 2 1 5 3\n",
      "4 2 3 1 5\n",
      "4 2 3 5 1\n",
      "4 2 5 1 3\n",
      "4 2 5 3 1\n",
      "4 3 1 2 5\n",
      "4 3 1 5 2\n",
      "4 3 2 1 5\n",
      "4 3 2 5 1\n",
      "4 3 5 1 2\n",
      "4 3 5 2 1\n",
      "4 5 1 2 3\n",
      "4 5 1 3 2\n",
      "4 5 2 1 3\n",
      "4 5 2 3 1\n",
      "4 5 3 1 2\n",
      "4 5 3 2 1\n",
      "5 1 2 3 4\n",
      "5 1 2 4 3\n",
      "5 1 3 2 4\n",
      "5 1 3 4 2\n",
      "5 1 4 2 3\n",
      "5 1 4 3 2\n",
      "5 2 1 3 4\n",
      "5 2 1 4 3\n",
      "5 2 3 1 4\n",
      "5 2 3 4 1\n",
      "5 2 4 1 3\n",
      "5 2 4 3 1\n",
      "5 3 1 2 4\n",
      "5 3 1 4 2\n",
      "5 3 2 1 4\n",
      "5 3 2 4 1\n",
      "5 3 4 1 2\n",
      "5 3 4 2 1\n",
      "5 4 1 2 3\n",
      "5 4 1 3 2\n",
      "5 4 2 1 3\n",
      "5 4 2 3 1\n",
      "5 4 3 1 2\n",
      "5 4 3 2 1\n"
     ]
    }
   ],
   "source": [
    "# Submission\n",
    "solve(5)"
   ]
  }
 ],
 "metadata": {
  "kernelspec": {
   "display_name": "Python 3",
   "language": "python",
   "name": "python3"
  },
  "language_info": {
   "codemirror_mode": {
    "name": "ipython",
    "version": 3
   },
   "file_extension": ".py",
   "mimetype": "text/x-python",
   "name": "python",
   "nbconvert_exporter": "python",
   "pygments_lexer": "ipython3",
   "version": "3.4.3"
  }
 },
 "nbformat": 4,
 "nbformat_minor": 0
}
