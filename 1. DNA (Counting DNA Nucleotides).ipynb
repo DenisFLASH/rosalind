{
 "cells": [
  {
   "cell_type": "code",
   "execution_count": 9,
   "metadata": {
    "collapsed": true
   },
   "outputs": [],
   "source": [
    "def process_string(string):\n",
    "    string = string.upper()\n",
    "    na = string.count('A')\n",
    "    nc = string.count('C')\n",
    "    ng = string.count('G')\n",
    "    nt = string.count('T')\n",
    "    print(\"{0} {1} {2} {3}\".format(int(na), int(nc), int(ng), int(nt)))"
   ]
  },
  {
   "cell_type": "code",
   "execution_count": 5,
   "metadata": {
    "collapsed": false
   },
   "outputs": [
    {
     "data": {
      "text/plain": [
       "'GATCAGCGCGCTACCTGGCGACGTTGTGTGAGCACCGAACCACGAGCGGAGGACGCGATCAAGCAAATGTCTCAGCGCAAGCTAAATTGCCTTGCAATCCCACCCATATGGCTAGCAGATACACAAGAACACCCCAGATCTTCACATTCTACCCTACGATAGTAGCGACTTTACAATTAAGGCTACTGACGTGTCCAATTGGTCGACAGGAGCGCGGAATACCGATGCGCCAAGTTCATTCAGCAAAGGCACTACACGCAACCACAAGCCACAAAGTATATGTCGCTAGTCTTCTGGGAGAACATGCGCCAGCGCGCTTTGTAAAATCGCCTATTGGTAACGACGATTGCTGATTTAGCGGGTGTAACTCTCACTTATCCCCGCGAGGAGTTATAGACTTCAAAGTTTCTTGGAATACAGACCAGTTGATGGACGCGGGGCACAGCAGCGTTCGCAATATTCGGGATGGCATGCCTAGTCATGTGTCGCATTATTCGCAGTGGTTCGAGGGGCTTTTTGCAAGGTTAAGCACTCGCGCACTTGTCGCATTGATAGAGCCGCGGCGTAGTAGACAGCACTACTTCGTTACGCATTGGGCTCATGGGCGATCCAACCCTGGAGATGACAACCCGCACATACAGGGGGGTGCTACTGGTTGTCCAATAGGGAATGGCACAATCGCAAGATTAAATGACTCAATTTGTGGACCCTCCCACAGACGGCTGAGGTTACGCGACATCCCTATCCGGGATGCACAAATGGGCAATAGAACTATGTTGACCTTGCGCCCTACTTGAGGAAAATAACAATACAGCCTACGTTGCTCGCAAACCTTAGAAGGTATAAGTCCAGTACGTCACACATTTGATAATTGCCAAGCGAGTCCGCTCATGGAGGAGTTGGGCGGTACTCATGCGAAAAGGCTTGTGCTCCCGCGGGTTGCATGTGACTTAGCATTACCTCCC'"
      ]
     },
     "execution_count": 5,
     "metadata": {},
     "output_type": "execute_result"
    }
   ],
   "source": [
    "#string = 'AGCTTTTCATTCTGACTGCAACGGGCAATATGTCTCTGTGTGGATTAAAAAAAGAGTGTCTGATAGCAGC'\n",
    "lines = []\n",
    "with open(\"./txt/rosalind_dna.txt\", \"r\") as file:\n",
    "    for line in file:\n",
    "        lines.append(line.strip())\n",
    "string = lines[0]\n",
    "string"
   ]
  },
  {
   "cell_type": "code",
   "execution_count": 10,
   "metadata": {
    "collapsed": false
   },
   "outputs": [
    {
     "name": "stdout",
     "output_type": "stream",
     "text": [
      "254 247 245 219\n"
     ]
    }
   ],
   "source": [
    "process_string(string)"
   ]
  }
 ],
 "metadata": {
  "kernelspec": {
   "display_name": "Python 3",
   "language": "python",
   "name": "python3"
  },
  "language_info": {
   "codemirror_mode": {
    "name": "ipython",
    "version": 3
   },
   "file_extension": ".py",
   "mimetype": "text/x-python",
   "name": "python",
   "nbconvert_exporter": "python",
   "pygments_lexer": "ipython3",
   "version": "3.4.3"
  }
 },
 "nbformat": 4,
 "nbformat_minor": 0
}
