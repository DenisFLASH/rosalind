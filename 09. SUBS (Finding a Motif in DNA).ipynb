{
 "cells": [
  {
   "cell_type": "code",
   "execution_count": 1,
   "metadata": {
    "collapsed": false
   },
   "outputs": [],
   "source": [
    "from tools import read_local_file, find_indices_of_matches"
   ]
  },
  {
   "cell_type": "code",
   "execution_count": 5,
   "metadata": {
    "collapsed": false
   },
   "outputs": [],
   "source": [
    "def solve(path):\n",
    "    lines = read_local_file(path)\n",
    "    s = lines[0]\n",
    "    t = lines[1]\n",
    "    print(s)\n",
    "    print(t)\n",
    "    indices = find_indices_of_matches(s, t)\n",
    "    print('\\n' + ' '.join([str(pos) for pos in indices]))"
   ]
  },
  {
   "cell_type": "code",
   "execution_count": 6,
   "metadata": {
    "collapsed": false
   },
   "outputs": [
    {
     "name": "stdout",
     "output_type": "stream",
     "text": [
      "GATATATGCATATACTT\n",
      "ATAT\n",
      "\n",
      "2 4 10\n"
     ]
    }
   ],
   "source": [
    "# Test\n",
    "solve('./txt/rosalind_subs_test.txt')"
   ]
  },
  {
   "cell_type": "code",
   "execution_count": 7,
   "metadata": {
    "collapsed": false
   },
   "outputs": [
    {
     "name": "stdout",
     "output_type": "stream",
     "text": [
      "AATAGACGTGCATGAATAGACAATAGACGCCCTAATAGACGCAATAGACAGGGAGGGGTGAATAGACAGCCTTGCACAATAGACCTCGAATAGACAATAGACGTCAATAGACAAATAGACCATCAAATAGACAATAGACAGACCGAATAGACTAATAGACATGACAATAGACGAATAGACACCAGTTCTGGCCAATAGACGAATAGACTAATACGAATAGACGAATAGACAAAAATAGACCTCGAATAGACACCTAATAGACGACGCAATAGACCAAATAGACGATCGCCGTAAAAATAGACAATAGACAATAGACCACGAATAGACGAATAGACAATAGACATAAATAGACAATAGACTTAATAGACTAGCAATAGACTCAATTCGCGAAATAGACCAACAAGAATAGACGGTAATAGACAATAGACGAATAGACTCCAATAGACTCGCTAATAGACTAAATAGACTCGATGGGGAAGAGAATAGACACAATAGACAATAGACCAATAGACAATAGACCCGAAATAGACTGTTACTACGCGAATAGACAATAGACGGTATAATAGACTAATAGACCAGAAAATAGACGCATAATAGACCGAGTGGTTGAAATAGACGAAAATAGACGTAAACTTCATAATAGACGACCCTCTCAATAGACAATAGACAATAGACAATAGACAATAGACTGAAATAGACAAATAGACGAATAGACAATAGACAAAATAGACGTCCGTCGTAAAATAGACAATAGACGAATAGACTCCAATAGACCAATAGACAATAGACATTAATAGACCTAATAGACATCCAAATAGACGCGCAAATAGACTTCCTTATTGGAAATAGACAATAGACAATAGACATAATAGACAATAGACAAAATAGACCCTCAATAGACAATAGACAATAGACCAATAGACAATAGACAATAGACAATAGAC\n",
      "AATAGACAA\n",
      "\n",
      "15 89 106 126 224 296 303 329 346 415 491 506 543 655 662 669 676 693 709 716 743 776 845 852 868 875 895 902 917 924 931\n"
     ]
    }
   ],
   "source": [
    "# Submission\n",
    "solve('./txt/rosalind_subs.txt')"
   ]
  }
 ],
 "metadata": {
  "kernelspec": {
   "display_name": "Python 3",
   "language": "python",
   "name": "python3"
  },
  "language_info": {
   "codemirror_mode": {
    "name": "ipython",
    "version": 3
   },
   "file_extension": ".py",
   "mimetype": "text/x-python",
   "name": "python",
   "nbconvert_exporter": "python",
   "pygments_lexer": "ipython3",
   "version": "3.4.3"
  }
 },
 "nbformat": 4,
 "nbformat_minor": 0
}
