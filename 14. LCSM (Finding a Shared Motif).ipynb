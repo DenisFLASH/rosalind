{
 "cells": [
  {
   "cell_type": "code",
   "execution_count": 1,
   "metadata": {
    "collapsed": true
   },
   "outputs": [],
   "source": [
    "import time\n",
    "from tools import read_fasta_file"
   ]
  },
  {
   "cell_type": "code",
   "execution_count": 2,
   "metadata": {
    "collapsed": true
   },
   "outputs": [],
   "source": [
    "def all_substrings(s):\n",
    "    substrings = list()\n",
    "    n = len(s)\n",
    "    for i in range(n):\n",
    "        for j in range(i, n):\n",
    "            substrings.append(s[i : j+1])\n",
    "    return substrings"
   ]
  },
  {
   "cell_type": "code",
   "execution_count": 3,
   "metadata": {
    "collapsed": true
   },
   "outputs": [],
   "source": [
    "def find_longest_common_substr(path, verbose=False):\n",
    "    \"\"\"\n",
    "    Algorithm:\n",
    "    \n",
    "    1. Generate ALL substrings of the first string.\n",
    "    2. Sort substrings in descending order by length.\n",
    "    3. Starting from the longest substring, check if it belongs to all other strings.\n",
    "        If yes, stop and return (as there will be no common substrings which are longer than this one, as they're sorted).\n",
    "        if no, pass to the next substring.\n",
    "    \"\"\"\n",
    "    longest_common_substring = ''\n",
    "    f = read_fasta_file(path)\n",
    "    strings = list(f.values())\n",
    "    s1 = strings[0]\n",
    "    s1_substrings = all_substrings(s1)\n",
    "    s1_substrings.sort(key = lambda item: (-len(item), item))\n",
    "    \n",
    "    # Displaying substrings for debugging purposes\n",
    "    if verbose:\n",
    "        print(f)\n",
    "        print(s1)\n",
    "        for substr in s1_substrings:\n",
    "            print(substr)\n",
    "    \n",
    "    for substr in s1_substrings:\n",
    "        is_in_all_str = True\n",
    "        for other_str in strings[1:]:\n",
    "            if substr not in other_str:\n",
    "                is_in_all_str = False\n",
    "        if is_in_all_str:\n",
    "            longest_common_substring = substr\n",
    "            break\n",
    "    \n",
    "    return longest_common_substring"
   ]
  },
  {
   "cell_type": "code",
   "execution_count": 4,
   "metadata": {
    "collapsed": false
   },
   "outputs": [
    {
     "name": "stdout",
     "output_type": "stream",
     "text": [
      "{'Rosalind_3': 'ATACA', 'Rosalind_2': 'TAGACCA', 'Rosalind_1': 'GATTACA'}\n",
      "ATACA\n",
      "ATACA\n",
      "ATAC\n",
      "TACA\n",
      "ACA\n",
      "ATA\n",
      "TAC\n",
      "AC\n",
      "AT\n",
      "CA\n",
      "TA\n",
      "A\n",
      "A\n",
      "A\n",
      "C\n",
      "T\n"
     ]
    },
    {
     "data": {
      "text/plain": [
       "'AC'"
      ]
     },
     "execution_count": 4,
     "metadata": {},
     "output_type": "execute_result"
    }
   ],
   "source": [
    "# Test\n",
    "find_longest_common_substr('./txt/rosalind_lcsm_test.txt', verbose=True)"
   ]
  },
  {
   "cell_type": "code",
   "execution_count": 5,
   "metadata": {
    "collapsed": false
   },
   "outputs": [
    {
     "name": "stdout",
     "output_type": "stream",
     "text": [
      "TGTTTCGGCTCTAACATCAGACATGGTTGATAATAGGCTTGAGGCTCTTGCTACATGGATACCAATCCCAGCGTGAGCAAGAGTAGAAGGGAGCCGTCACAACAAAACAGACATGTTTCCGGACTATCTCACACTCCCTCGTTCAGGGGAAGTACCACTCCAGAACAGAAAGACCAGTTGATGCGTTTGGGTAGAAGGATGTAAACCTCCA\n",
      "execution time: 66.61675190925598\n"
     ]
    }
   ],
   "source": [
    "# Submission\n",
    "T0 = time.time()\n",
    "lcs = find_longest_common_substr('./txt/rosalind_lcsm.txt', verbose=False)\n",
    "T1 = time.time()\n",
    "print(lcs)\n",
    "print(\"execution time:\", T1-T0)"
   ]
  },
  {
   "cell_type": "code",
   "execution_count": 6,
   "metadata": {
    "collapsed": false
   },
   "outputs": [
    {
     "name": "stdout",
     "output_type": "stream",
     "text": [
      "211\n"
     ]
    }
   ],
   "source": [
    "print(len(lcs))"
   ]
  }
 ],
 "metadata": {
  "kernelspec": {
   "display_name": "Python 3",
   "language": "python",
   "name": "python3"
  },
  "language_info": {
   "codemirror_mode": {
    "name": "ipython",
    "version": 3
   },
   "file_extension": ".py",
   "mimetype": "text/x-python",
   "name": "python",
   "nbconvert_exporter": "python",
   "pygments_lexer": "ipython3",
   "version": "3.4.3"
  }
 },
 "nbformat": 4,
 "nbformat_minor": 0
}
