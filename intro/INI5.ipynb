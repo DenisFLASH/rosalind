{
 "cells": [
  {
   "cell_type": "code",
   "execution_count": 2,
   "metadata": {
    "collapsed": true
   },
   "outputs": [],
   "source": [
    "def read_lines(path):\n",
    "    lines = []\n",
    "    with open(path, 'r') as in_file:\n",
    "        for line in in_file:\n",
    "            lines.append(line.strip())\n",
    "    return lines"
   ]
  },
  {
   "cell_type": "code",
   "execution_count": 3,
   "metadata": {
    "collapsed": true
   },
   "outputs": [],
   "source": [
    "def get_even_lines(lines):\n",
    "    even_lines = []\n",
    "    # 1-based \"even\" : 2, 4, 6, ...\n",
    "    # Python list indexing is 0-based, so it corresponding lines have ODD indices: 1, 3, 5, ...\n",
    "    for i in range(len(lines)):\n",
    "        if i % 2 == 1:\n",
    "            even_lines.append(lines[i])\n",
    "    return even_lines        "
   ]
  },
  {
   "cell_type": "code",
   "execution_count": 4,
   "metadata": {
    "collapsed": true
   },
   "outputs": [],
   "source": [
    "def write_lines(lines, path):\n",
    "    with open(path, 'w') as out_file:\n",
    "        for line in lines:\n",
    "            out_file.write(line + '\\n')\n",
    "    print(\"file\", path, \"written\")"
   ]
  },
  {
   "cell_type": "code",
   "execution_count": 7,
   "metadata": {
    "collapsed": false
   },
   "outputs": [
    {
     "name": "stdout",
     "output_type": "stream",
     "text": [
      "file ./txt/rosalind_ini5_sample_answer.txt written\n"
     ]
    }
   ],
   "source": [
    "# Test\n",
    "lines = read_lines('./txt/rosalind_ini5_sample.txt')\n",
    "even_lines = get_even_lines(lines)\n",
    "write_lines(even_lines, './txt/rosalind_ini5_sample_answer.txt')"
   ]
  },
  {
   "cell_type": "code",
   "execution_count": 8,
   "metadata": {
    "collapsed": false
   },
   "outputs": [
    {
     "name": "stdout",
     "output_type": "stream",
     "text": [
      "file ./txt/rosalind_ini5_answer.txt written\n"
     ]
    }
   ],
   "source": [
    "# Submission\n",
    "lines = read_lines('./txt/rosalind_ini5.txt')\n",
    "even_lines = get_even_lines(lines)\n",
    "write_lines(even_lines, './txt/rosalind_ini5_answer.txt')"
   ]
  }
 ],
 "metadata": {
  "kernelspec": {
   "display_name": "Python 3",
   "language": "python",
   "name": "python3"
  },
  "language_info": {
   "codemirror_mode": {
    "name": "ipython",
    "version": 3
   },
   "file_extension": ".py",
   "mimetype": "text/x-python",
   "name": "python",
   "nbconvert_exporter": "python",
   "pygments_lexer": "ipython3",
   "version": "3.4.3"
  }
 },
 "nbformat": 4,
 "nbformat_minor": 0
}
