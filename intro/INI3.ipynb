{
 "cells": [
  {
   "cell_type": "code",
   "execution_count": 3,
   "metadata": {
    "collapsed": true
   },
   "outputs": [],
   "source": [
    "def read_lines(path):\n",
    "    lines = []\n",
    "    with open(path, 'r') as in_file:\n",
    "        for line in in_file:\n",
    "            lines.append(line.strip())\n",
    "    return lines"
   ]
  },
  {
   "cell_type": "code",
   "execution_count": 7,
   "metadata": {
    "collapsed": true
   },
   "outputs": [],
   "source": [
    "def slice(s, a, b, c, d):\n",
    "    return s[a:b+1] + ' ' + s[c:d+1]"
   ]
  },
  {
   "cell_type": "code",
   "execution_count": 16,
   "metadata": {
    "collapsed": false
   },
   "outputs": [
    {
     "data": {
      "text/plain": [
       "'Humpty Dumpty'"
      ]
     },
     "execution_count": 16,
     "metadata": {},
     "output_type": "execute_result"
    }
   ],
   "source": [
    "# Test\n",
    "s = 'HumptyDumptysatonawallHumptyDumptyhadagreatfallAlltheKingshorsesandalltheKingsmenCouldntputHumptyDumptyinhisplaceagain.'\n",
    "a, b, c, d = 22, 27, 97, 102\n",
    "slice(s, a, b, c, d)"
   ]
  },
  {
   "cell_type": "code",
   "execution_count": 17,
   "metadata": {
    "collapsed": false
   },
   "outputs": [
    {
     "name": "stdout",
     "output_type": "stream",
     "text": [
      "1FwBYdw24rBurLUykcmAI0nvwcjTe5BwSnU37jBGDyDIqq7oKzWQBEulabeiaDCiiLp3OBlYLahnU8EE6FLdGZ0SidoO9WXCJCS54NZoSOi8BfqdFkKtvRA2oKh6KHg31skngZ41tsTSUrBMuVvKxXHKc36nTd5bnpzOiEIR3EkgsyrcnSalbigula8rHcdmSOm3.\n",
      "53 60 178 185\n"
     ]
    },
    {
     "data": {
      "text/plain": [
       "'Eulabeia albigula'"
      ]
     },
     "execution_count": 17,
     "metadata": {},
     "output_type": "execute_result"
    }
   ],
   "source": [
    "# Submission\n",
    "lines = read_lines('./txt/rosalind_ini3.txt')\n",
    "s = lines[0]\n",
    "a, b, c, d = tuple([int(number) for number in lines[1].split(' ')])\n",
    "print(s)\n",
    "print(a, b, c, d)\n",
    "slice(s, a, b, c, d)"
   ]
  }
 ],
 "metadata": {
  "kernelspec": {
   "display_name": "Python 3",
   "language": "python",
   "name": "python3"
  },
  "language_info": {
   "codemirror_mode": {
    "name": "ipython",
    "version": 3
   },
   "file_extension": ".py",
   "mimetype": "text/x-python",
   "name": "python",
   "nbconvert_exporter": "python",
   "pygments_lexer": "ipython3",
   "version": "3.4.3"
  }
 },
 "nbformat": 4,
 "nbformat_minor": 0
}
