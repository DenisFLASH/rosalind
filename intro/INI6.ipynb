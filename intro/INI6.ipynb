{
 "cells": [
  {
   "cell_type": "code",
   "execution_count": 1,
   "metadata": {
    "collapsed": true
   },
   "outputs": [],
   "source": [
    "def read_lines(path):\n",
    "    lines = []\n",
    "    with open(path, 'r') as in_file:\n",
    "        for line in in_file:\n",
    "            lines.append(line.strip())\n",
    "    return lines"
   ]
  },
  {
   "cell_type": "code",
   "execution_count": 2,
   "metadata": {
    "collapsed": false
   },
   "outputs": [],
   "source": [
    "def count_words(s):\n",
    "    word_counts = dict()\n",
    "    for word in s.split():\n",
    "        if word not in word_counts:\n",
    "            word_counts[word] = 1\n",
    "        else:\n",
    "            word_counts[word] += 1\n",
    "    for key, value in word_counts.items():\n",
    "        print(\"{0} {1}\".format(key, str(value)))"
   ]
  },
  {
   "cell_type": "code",
   "execution_count": 3,
   "metadata": {
    "collapsed": false
   },
   "outputs": [
    {
     "data": {
      "text/plain": [
       "'We tried list and we tried dicts also we tried Zen'"
      ]
     },
     "execution_count": 3,
     "metadata": {},
     "output_type": "execute_result"
    }
   ],
   "source": [
    "# Test\n",
    "lines = read_lines('./txt/rosalind_ini6_sample.txt')\n",
    "s = lines[0]\n",
    "s"
   ]
  },
  {
   "cell_type": "code",
   "execution_count": 4,
   "metadata": {
    "collapsed": false
   },
   "outputs": [
    {
     "name": "stdout",
     "output_type": "stream",
     "text": [
      "list 1\n",
      "also 1\n",
      "dicts 1\n",
      "We 1\n",
      "Zen 1\n",
      "we 2\n",
      "and 1\n",
      "tried 3\n"
     ]
    }
   ],
   "source": [
    "count_words(s)"
   ]
  },
  {
   "cell_type": "code",
   "execution_count": 19,
   "metadata": {
    "collapsed": false
   },
   "outputs": [
    {
     "data": {
      "text/plain": [
       "'When I find myself in times of trouble Mother Mary comes to me Speaking words of wisdom let it be And in my hour of darkness she is standing right in front of me Speaking words of wisdom let it be Let it be let it be let it be let it be Whisper words of wisdom let it be And when the broken hearted people living in the world agree There will be an answer let it be For though they may be parted there is still a chance that they will see There will be an answer let it be Let it be let it be let it be let it be There will be an answer let it be Let it be let it be let it be let it be Whisper words of wisdom let it be Let it be let it be let it be let it be Whisper words of wisdom let it be And when the night is cloudy there is still a light that shines on me Shine until tomorrow let it be I wake up to the sound of music Mother Mary comes to me Speaking words of wisdom let it be Let it be let it be let it be yeah let it be There will be an answer let it be Let it be let it be let it be yeah let it be Whisper words of wisdom let it be'"
      ]
     },
     "execution_count": 19,
     "metadata": {},
     "output_type": "execute_result"
    }
   ],
   "source": [
    "# Submission\n",
    "lines = read_lines('./txt/rosalind_ini6.txt')\n",
    "s = lines[0]\n",
    "s"
   ]
  },
  {
   "cell_type": "code",
   "execution_count": 20,
   "metadata": {
    "collapsed": false
   },
   "outputs": [
    {
     "name": "stdout",
     "output_type": "stream",
     "text": [
      "parted 1\n",
      "there 2\n",
      "agree 1\n",
      "yeah 2\n",
      "that 2\n",
      "when 2\n",
      "of 11\n",
      "night 1\n",
      "up 1\n",
      "will 5\n",
      "see 1\n",
      "music 1\n",
      "hearted 1\n",
      "let 30\n",
      "I 2\n",
      "And 3\n",
      "sound 1\n",
      "myself 1\n",
      "words 7\n",
      "times 1\n",
      "Let 6\n",
      "to 3\n",
      "Whisper 4\n",
      "until 1\n",
      "shines 1\n",
      "people 1\n",
      "There 4\n",
      "Speaking 3\n",
      "darkness 1\n",
      "it 36\n",
      "broken 1\n",
      "Mary 2\n",
      "may 1\n",
      "she 1\n",
      "living 1\n",
      "is 4\n",
      "wisdom 7\n",
      "chance 1\n",
      "be 41\n",
      "answer 4\n",
      "comes 2\n",
      "Mother 2\n",
      "wake 1\n",
      "an 4\n",
      "front 1\n",
      "the 4\n",
      "though 1\n",
      "in 4\n",
      "trouble 1\n",
      "When 1\n",
      "still 2\n",
      "tomorrow 1\n",
      "me 4\n",
      "light 1\n",
      "my 1\n",
      "standing 1\n",
      "on 1\n",
      "cloudy 1\n",
      "world 1\n",
      "a 2\n",
      "Shine 1\n",
      "hour 1\n",
      "For 1\n",
      "find 1\n",
      "right 1\n",
      "they 2\n"
     ]
    }
   ],
   "source": [
    "count_words(s)"
   ]
  }
 ],
 "metadata": {
  "kernelspec": {
   "display_name": "Python 3",
   "language": "python",
   "name": "python3"
  },
  "language_info": {
   "codemirror_mode": {
    "name": "ipython",
    "version": 3
   },
   "file_extension": ".py",
   "mimetype": "text/x-python",
   "name": "python",
   "nbconvert_exporter": "python",
   "pygments_lexer": "ipython3",
   "version": "3.4.3"
  }
 },
 "nbformat": 4,
 "nbformat_minor": 0
}
