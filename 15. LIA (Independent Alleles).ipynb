{
 "cells": [
  {
   "cell_type": "markdown",
   "metadata": {},
   "source": [
    "**Given**: Two positive integers k (k≤7k≤7) and N (N≤2kN≤2k). In this problem, we begin with Tom, who in the 0th generation has genotype Aa Bb. Tom has two children in the 1st generation, each of whom has two children, and so on. Each organism always mates with an organism having genotype Aa Bb.\n",
    "\n",
    "**Return**: The probability that at least N Aa Bb organisms will belong to the k-th generation of Tom's family tree (don't count the Aa Bb mates at each level). Assume that Mendel's second law holds for the factors.\n",
    "\n",
    "Sample Dataset\n",
    "2 1\n",
    "\n",
    "Sample Output\n",
    "0.684"
   ]
  },
  {
   "cell_type": "markdown",
   "metadata": {},
   "source": [
    "**Solution**\n",
    "\n",
    "Punnett square for mating organisms with AaBb genotype:\n",
    "\n",
    "AaBb x AaBb = (AB | Ab | aB | ab) x  (AB | Ab | aB | ab) = \n",
    "\n",
    "AABB + AABb + AaBB + AaBb +\n",
    "\n",
    "AABb + AAbb + AaBb + Aabb +\n",
    "\n",
    "AaBB + AaBb + aaBB + aaBb +\n",
    "\n",
    "AaBb + Aabb + aaBb + aabb =\n",
    "\n",
    "1x AABB +\n",
    "\n",
    "2x AABb +\n",
    "\n",
    "1x AAbb +\n",
    "\n",
    "2x AaBB +\n",
    "\n",
    "4x AaBb +\n",
    "\n",
    "2x Aabb +\n",
    "\n",
    "1x aaBb +\n",
    "\n",
    "2x aaBb +\n",
    "\n",
    "1x aabb\n",
    "\n",
    "\n",
    "Using Mendel's Second Law, alleles for different factors are inherited with no dependence on each other.\n",
    "\n",
    "Aa x Aa = (A | a) x (A | a) = AA + Aa + aA + aa = 1x AA + 2x Aa + 1x aa\n",
    "\n",
    "Bb x Bb = (B | b) x (B | b) = BB + Bb + bB + bb = 1x BB + 2x Bb + 1x bb\n",
    "\n",
    "Multiplying these 2 results, (1x AA + 2x Aa + 1x aa) and (1x BB + 2x Bb + 1x bb), will yield the same result as above ro AaBb x AaBb.\n"
   ]
  },
  {
   "cell_type": "markdown",
   "metadata": {},
   "source": [
    "**Hint**\n",
    "\n",
    "Prob('AaBb' in F1) = 4/16 (see above) = 1/4 = Prob('Aa' in F1) * Prob('Bb' in F1)"
   ]
  },
  {
   "cell_type": "code",
   "execution_count": 116,
   "metadata": {
    "collapsed": true
   },
   "outputs": [],
   "source": [
    "from tools import punnett_square\n",
    "from copy import deepcopy\n",
    "import math"
   ]
  },
  {
   "cell_type": "code",
   "execution_count": 101,
   "metadata": {
    "collapsed": true
   },
   "outputs": [],
   "source": [
    "def mating(genotype1, genotype2):\n",
    "    \"\"\"\n",
    "    Args:\n",
    "        + genotype1,2 : two tuples of dictionaries {str: float}, resulting from Punnett square calculation. \n",
    "                        The number of elements in every tuple is equal to the number of factors in genotype (2 for AaBb).\n",
    "    \n",
    "    Returns:\n",
    "        one tuple of dictionaries {str: float}, 1 dictionary per factor\n",
    "    \"\"\"\n",
    "    #print(\"mating\", genotype1, \"with\", genotype2)\n",
    "    offspring_genotype = tuple()\n",
    "    # Multiplying independently parts of genotype dictionary, factor by factor\n",
    "    n_factors = len(genotype1)\n",
    "    for i in range(n_factors):\n",
    "        d = multiply_one_factor_dict(genotype1[i], genotype2[i])\n",
    "        offspring_genotype += (d,)\n",
    "    return offspring_genotype"
   ]
  },
  {
   "cell_type": "code",
   "execution_count": 102,
   "metadata": {
    "collapsed": true
   },
   "outputs": [],
   "source": [
    "def multiply_one_factor_dict(punnett1, punnett2):\n",
    "    \"\"\"\n",
    "    Args:\n",
    "        + punnett1,2: {str: float}\n",
    "                        Key:   2-allele combinaton\n",
    "                        Value: probability of observing this combination\n",
    "    Returns:\n",
    "        + {str: float} the same format that input dictionaries\n",
    "    \"\"\"\n",
    "    product = dict()\n",
    "    # Keys of each punnett dictionary could take values 'AA', 'Aa', 'aa'.\n",
    "    for key1 in punnett1: \n",
    "        for key2 in punnett2:\n",
    "            coeff = punnett1[key1] * punnett2[key2]\n",
    "            p_temp = punnett_square(key1, key2)\n",
    "            for d_key in p_temp:\n",
    "                if d_key not in product:\n",
    "                    product[d_key] = coeff * p_temp[d_key]\n",
    "                else:\n",
    "                    product[d_key] += coeff * p_temp[d_key]\n",
    "    return product"
   ]
  },
  {
   "cell_type": "code",
   "execution_count": 108,
   "metadata": {
    "collapsed": false
   },
   "outputs": [],
   "source": [
    "def make_family_tree(k):\n",
    "    \"\"\"\n",
    "    Mating process for `k` generations.\n",
    "    \"\"\"\n",
    "    AaBb_genotype = ({'Aa': 1}, {'Bb': 1})\n",
    "    parent = deepcopy(AaBb_genotype)\n",
    "    n_children = 2\n",
    "\n",
    "    family_tree = {0: [parent]}\n",
    "    for generation_index in range(1,k+1):\n",
    "        new_generation = list()\n",
    "        #print(\"\\n\\ngeneration #\", generation_index)\n",
    "        for now_adult in family_tree[generation_index - 1]:\n",
    "            for i in range(n_children):\n",
    "                child = mating(genotype0, AaBb_genotype)\n",
    "                new_generation.append(child)\n",
    "        #print(\"new generation:\", new_generation)\n",
    "        family_tree[generation_index] = new_generation\n",
    "    return family_tree"
   ]
  },
  {
   "cell_type": "code",
   "execution_count": 182,
   "metadata": {
    "collapsed": false
   },
   "outputs": [
    {
     "data": {
      "text/plain": [
       "[({'AA': 0.25, 'Aa': 0.5, 'aa': 0.25}, {'BB': 0.25, 'Bb': 0.5, 'bb': 0.25}),\n",
       " ({'AA': 0.25, 'Aa': 0.5, 'aa': 0.25}, {'BB': 0.25, 'Bb': 0.5, 'bb': 0.25}),\n",
       " ({'AA': 0.25, 'Aa': 0.5, 'aa': 0.25}, {'BB': 0.25, 'Bb': 0.5, 'bb': 0.25}),\n",
       " ({'AA': 0.25, 'Aa': 0.5, 'aa': 0.25}, {'BB': 0.25, 'Bb': 0.5, 'bb': 0.25})]"
      ]
     },
     "execution_count": 182,
     "metadata": {},
     "output_type": "execute_result"
    }
   ],
   "source": [
    "tree = make_family_tree(4)\n",
    "tree[2]"
   ]
  },
  {
   "cell_type": "markdown",
   "metadata": {},
   "source": [
    "+ Probability that AT LEAST N orgamisms in the generation  are **AaBb** = 1 - P(less than N organisms are **AaBb**) = 1 - P(0 x **AaBb**) - P(1 x **AaBb**) - ... - P(N-1 x **AaBb**)\n",
    "\n",
    "\n",
    "+ P(Exactly N organisms are **AaBb**) = P(Exactly N are **Aa**) **x** P(Exactly N are **Bb**)"
   ]
  },
  {
   "cell_type": "code",
   "execution_count": 175,
   "metadata": {
    "collapsed": false
   },
   "outputs": [],
   "source": [
    "def P_at_least_N_organisms_have_given_genotype(N, generation, genotype):\n",
    "    p_less_than_N = 0\n",
    "    for i in range(N):\n",
    "        p_i = P_exactly_N_organisms_have_given_genotype(i, generation, genotype)\n",
    "        print(\"exactly\", i, \":\", p_i)\n",
    "        p_less_than_N += p_i\n",
    "    return 1.0 - p_less_than_N\n",
    "\n",
    "        \n",
    "def P_exactly_N_organisms_have_given_genotype(N, generation, genotype):\n",
    "    final_proba = 1.0\n",
    "    m = len(generation)\n",
    "    child_punnett = generation[0]\n",
    "    \n",
    "    # Probability of a genotype to be equal to the target genotype\n",
    "    # For this, ALL of its factors are equal to corresponding factors of the target genotype\n",
    "    yes_proba = 1.0\n",
    "    for factor_index in range(len(genotype)):\n",
    "        factor = genotype[factor_index]\n",
    "        yes_proba *= child_punnett[factor_index][factor]\n",
    "    # Probability of a genotype to be not equal to the target genotype\n",
    "    no_proba = 1.0 - yes_proba\n",
    "       \n",
    "    # YES for the first `N`\n",
    "    for i in range(N):\n",
    "        final_proba *= yes_proba\n",
    "    # NO for the next `m-N`\n",
    "    for j in range(N, m):\n",
    "        final_proba *= no_proba\n",
    "    \n",
    "    final_proba *= nCr(m, N)\n",
    "    return final_proba\n",
    "\n",
    "def nCr(n, r):\n",
    "    return int(math.factorial(n) / (math.factorial(r)*math.factorial(n-r)))"
   ]
  },
  {
   "cell_type": "code",
   "execution_count": 179,
   "metadata": {
    "collapsed": false
   },
   "outputs": [],
   "source": [
    "def solve(k, N):\n",
    "    tree = make_family_tree(k)\n",
    "    last_generation = tree[k]\n",
    "    print(len(last_generation), \"organisms in the last generation\")\n",
    "    return P_at_least_N_organisms_have_given_genotype(N, last_generation, ('Aa','Bb'))"
   ]
  },
  {
   "cell_type": "code",
   "execution_count": 180,
   "metadata": {
    "collapsed": false
   },
   "outputs": [
    {
     "name": "stdout",
     "output_type": "stream",
     "text": [
      "8 organisms in the last generation\n",
      "exactly 0 : 0.1001129150390625\n",
      "exactly 1 : 0.2669677734375\n"
     ]
    },
    {
     "data": {
      "text/plain": [
       "0.6329193115234375"
      ]
     },
     "execution_count": 180,
     "metadata": {},
     "output_type": "execute_result"
    }
   ],
   "source": [
    "# Test\n",
    "solve(k=3, N=2)"
   ]
  },
  {
   "cell_type": "code",
   "execution_count": 181,
   "metadata": {
    "collapsed": false
   },
   "outputs": [
    {
     "name": "stdout",
     "output_type": "stream",
     "text": [
      "128 organisms in the last generation\n",
      "exactly 0 : 1.0182202130902541e-16\n",
      "exactly 1 : 4.344406242518418e-15\n",
      "exactly 2 : 9.195659879997318e-14\n",
      "exactly 3 : 1.2873923831996245e-12\n",
      "exactly 4 : 1.3410337324996089e-11\n",
      "exactly 5 : 1.1085878855330101e-10\n",
      "exactly 6 : 7.575350551142237e-10\n",
      "exactly 7 : 4.400917939235013e-09\n",
      "exactly 8 : 2.2187961276976525e-08\n",
      "exactly 9 : 9.86131612310068e-08\n",
      "exactly 10 : 3.9116553954966027e-07\n",
      "exactly 11 : 1.3987131414199972e-06\n",
      "exactly 12 : 4.54581770961499e-06\n",
      "exactly 13 : 1.3520893700393306e-05\n",
      "exactly 14 : 3.7021494655838815e-05\n",
      "exactly 15 : 9.378778646145832e-05\n",
      "exactly 16 : 0.00022079208062801648\n",
      "exactly 17 : 0.0004848767260850557\n",
      "exactly 18 : 0.0009966910480637258\n",
      "exactly 19 : 0.0019234388646843829\n",
      "exactly 20 : 0.003494247270843296\n",
      "exactly 21 : 0.005990138178588506\n",
      "exactly 22 : 0.009711284622863183\n",
      "exactly 23 : 0.014918785072804315\n",
      "exactly 24 : 0.02175656156450629\n",
      "exactly 25 : 0.030169098702782057\n",
      "exactly 26 : 0.03983868162034041\n",
      "exactly 27 : 0.050167228707095335\n",
      "exactly 28 : 0.06032012023115034\n",
      "exactly 29 : 0.06933347153005787\n",
      "exactly 30 : 0.07626681868306365\n",
      "exactly 31 : 0.08036718527892728\n",
      "exactly 32 : 0.08120434345891611\n",
      "exactly 33 : 0.0787436057783429\n",
      "exactly 34 : 0.07333963283277034\n"
     ]
    },
    {
     "data": {
      "text/plain": [
       "0.3006022057910501"
      ]
     },
     "execution_count": 181,
     "metadata": {},
     "output_type": "execute_result"
    }
   ],
   "source": [
    "# Submission\n",
    "solve(k=7, N=35)"
   ]
  }
 ],
 "metadata": {
  "kernelspec": {
   "display_name": "Python 3",
   "language": "python",
   "name": "python3"
  },
  "language_info": {
   "codemirror_mode": {
    "name": "ipython",
    "version": 3
   },
   "file_extension": ".py",
   "mimetype": "text/x-python",
   "name": "python",
   "nbconvert_exporter": "python",
   "pygments_lexer": "ipython3",
   "version": "3.4.3"
  }
 },
 "nbformat": 4,
 "nbformat_minor": 0
}
