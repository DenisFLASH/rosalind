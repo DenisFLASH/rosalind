{
 "cells": [
  {
   "cell_type": "code",
   "execution_count": 25,
   "metadata": {
    "collapsed": true
   },
   "outputs": [],
   "source": [
    "import numpy as np\n",
    "import random"
   ]
  },
  {
   "cell_type": "code",
   "execution_count": 1,
   "metadata": {
    "collapsed": true
   },
   "outputs": [],
   "source": [
    "def parse_fasta_file(path):\n",
    "    \"\"\"\n",
    "    A file in FASTA format (.fas, .fasta) applies the following sample notation to store genetic strings:\n",
    "\n",
    "    Example:\n",
    "\n",
    "    >Taxon1\n",
    "    CCTGCGGAAGATCGGCACTAGAATAGCCAGAACCGTTTCTCTGAGGCTTCCGGCCTTCCC\n",
    "    TCCCACTAATAATTCTGAGG\n",
    "    >Taxon2\n",
    "    CCATCGGTAGCGCATCCTTAGTCCAATTAAGTCCCTATCCAGGCGCTCCGCCGAAGGTCT\n",
    "    ATATCCATTTGTCAGCAGACACGC\n",
    "    >Taxon3\n",
    "    CCACCCTCGTGGTATGGCTAGGCATTCAGGAACCGGAGAACGCTTCAGACCAGCCCGGAC\n",
    "    TGGGAACCTGCGGGCAGTAGGTGGAAT\n",
    "\n",
    "    Every string in a FASTA file begins with a single-line that contains the symbol '>' \n",
    "    along with some labeling information about the string. \n",
    "    The word following the '>' symbol is the identifier of the sequence, \n",
    "    and the rest of the line is its description (both are optional). \n",
    "    There should be no space between the \">\" and the first letter of the identifier.\n",
    "\n",
    "    All subsequent lines contain the string itself; \n",
    "    it is recommended that all lines of text are shorter than 80 symbols. \n",
    "    The string ends when another line starting with '>' appears, \n",
    "    indicating the start of another sequence (or if the end of the file is reached).\n",
    "    \n",
    "    \n",
    "    Args:\n",
    "        + path (str): path to an input file\n",
    "        \n",
    "    Returns:\n",
    "        + dictionary {str: str}:\n",
    "            key:   taxon name,\n",
    "            value: taxon genetic string\n",
    "    \"\"\"\n",
    "    lines = read_lines(path)\n",
    "    d = {}\n",
    "    current_taxon = None\n",
    "    for line in lines:\n",
    "        # If it is a taxon title line, create an entry in the dictionary and set this taxon to be the current key\n",
    "        if line.startswith('>'):\n",
    "            taxon_name = line.strip('>')\n",
    "            if taxon_name in d:\n",
    "                raise Exception(\"Taxon {0} found more than once in a file!\".format(taxon_name))\n",
    "            else:\n",
    "                d[taxon_name] = ''\n",
    "                current_taxon = taxon_name\n",
    "        # If it is a line containing part of a genetic string, add this line to the current taxon's entry (concatenate)\n",
    "        else:\n",
    "            d[current_taxon] += line\n",
    "    return d"
   ]
  },
  {
   "cell_type": "code",
   "execution_count": 2,
   "metadata": {
    "collapsed": true
   },
   "outputs": [],
   "source": [
    "def read_lines(path):\n",
    "    lines = []\n",
    "    with open(path, \"r\") as in_file:\n",
    "        for line in in_file:\n",
    "            lines.append(line.strip())\n",
    "    return lines"
   ]
  },
  {
   "cell_type": "code",
   "execution_count": 61,
   "metadata": {
    "collapsed": true
   },
   "outputs": [],
   "source": [
    "def calc_profile_matrix(dna_strings):\n",
    "    \"\"\"\n",
    "    Given a list of DNA strings, build a profile matrix by counting the number of occurrences of each symbol at each position.\n",
    "    \n",
    "    DNA Strings:\n",
    "    A T C C A G C T\n",
    "    G G G C A A C T\n",
    "    A T G G A T C T\n",
    "    A A G C A A C C\n",
    "    T T G G A A C T\n",
    "    A T G C C A T T\n",
    "    A T G G C A C T\n",
    "    \n",
    "    Profile:\n",
    "A   5 1 0 0 5 5 0 0\n",
    "C   0 0 1 4 2 0 6 1\n",
    "G   1 1 6 3 0 1 0 0\n",
    "T   1 5 0 0 0 1 1 6\n",
    "\n",
    "    Args:\n",
    "        + dna_strings (list of str): DNA strings to be analyzed\n",
    "    \n",
    "    Returns:\n",
    "        profile (np.ndarray): profile matrix as a numpy.ndarray\n",
    "    \"\"\"\n",
    "    n = len(dna_strings[0])\n",
    "    profile = np.zeros(shape=(4,n), dtype=np.int64)\n",
    "    \n",
    "    for s in dna_strings:\n",
    "        s = s.upper()\n",
    "        for pos in range(n):\n",
    "            if s[pos] == 'A':\n",
    "                row_id = 0\n",
    "            elif s[pos] == 'C':\n",
    "                row_id = 1\n",
    "            elif s[pos] == 'G':\n",
    "                row_id = 2\n",
    "            elif s[pos] == 'T':\n",
    "                row_id = 3\n",
    "            profile[row_id, pos] += 1\n",
    "    \n",
    "    return profile"
   ]
  },
  {
   "cell_type": "code",
   "execution_count": 77,
   "metadata": {
    "collapsed": true
   },
   "outputs": [],
   "source": [
    "def calc_consensus_string(profile):\n",
    "    \"\"\"\n",
    "    Calculate consensus string of the given profile matrix.\n",
    "    If several possible consensus strings exist, return any one of them, chosen randomly,\n",
    "    in order not to introduce bias towards any of nucleotide.\n",
    "    \n",
    "    Args:\n",
    "        + profile (numpy.ndarray) profile matrix\n",
    "    \n",
    "    Returns:\n",
    "        (str) consensus string\n",
    "    \"\"\"\n",
    "    consensus = str()\n",
    "    for pos in range(profile.shape[1]):\n",
    "        profile_column = profile[:, pos]\n",
    "        max_count = max(profile_column)\n",
    "        # If maximum count occurs just for one row (nucleotide), select corresponding nucleotide. \n",
    "        # Otherwise, randomly pick a nucleotide out of those having maximum count.\n",
    "        row_indices_of_max_count = np.argwhere(profile_column == max_count).flatten()\n",
    "        if len(row_indices_of_max_count) == 1:\n",
    "            selected_row = row_indices_of_max_count[0]\n",
    "        else:\n",
    "            selected_row = random.choice(row_indices_of_max_count)\n",
    "        consensus += ['A', 'C', 'G', 'T'][selected_row]\n",
    "    return consensus"
   ]
  },
  {
   "cell_type": "code",
   "execution_count": 74,
   "metadata": {
    "collapsed": true
   },
   "outputs": [],
   "source": [
    "def solve(path):\n",
    "    fasta = parse_fasta_file(path)\n",
    "    dna_strings = list(fasta.values())\n",
    "    profile = calc_profile_matrix(dna_strings)\n",
    "    consensus = calc_consensus_string(profile)\n",
    "    print(consensus)\n",
    "    for i in range(4):\n",
    "        nucleotide = ['A', 'C', 'G', 'T'][i]\n",
    "        row_profile = ' '.join([str(count) for count in profile[i, :]]  )\n",
    "        print(\"{0}: {1}\".format(nucleotide, row_profile))"
   ]
  },
  {
   "cell_type": "code",
   "execution_count": 91,
   "metadata": {
    "collapsed": false
   },
   "outputs": [
    {
     "name": "stdout",
     "output_type": "stream",
     "text": [
      "ATGCAACT\n",
      "A: 5 1 0 0 5 5 0 0\n",
      "C: 0 0 1 4 2 0 6 1\n",
      "G: 1 1 6 3 0 1 0 0\n",
      "T: 1 5 0 0 0 1 1 6\n"
     ]
    }
   ],
   "source": [
    "# Test\n",
    "solve('./txt/rosalind_cons_test.txt')"
   ]
  },
  {
   "cell_type": "code",
   "execution_count": 93,
   "metadata": {
    "collapsed": false,
    "scrolled": true
   },
   "outputs": [
    {
     "name": "stdout",
     "output_type": "stream",
     "text": [
      "GCCAGGAATACACGTTAACGTTCCCCTACGGCCTTCCGGACGGGGGACTGGTTATGTAGATCCCACTAGGTAGCATGGCCGGCCACTCAAGCGAACTAACTACCTGTGAACCGAGCCGGTTAAACTTGCTATTGACCAGTTATACACATATGATTGTGATAACTACCATATCATTCAAACGAGGTGCTTGTTTGTAGGCCCTAACCCGTTCCGCGGAAGCGGTCACCATTGGTCATCTCCCGCGGGGCCAGGAGATGTATCAAAGGCAACCACTTTAAGTATCCTGCACAGACTTATTACTATCGAAGTGGGTCTGTGGTTCGCTTTGGATAGGACAGGGGGTATAACTTCTAGGACTCACGGCCGGCATGAACAGTATCGGGGATACTACGCGGCATGGAAACGTGAGTTAGCGTTTTCTTTGGGAATGGTGACATAATTTACAGTACCTAGAACTTAATGACCCAGCCAGAGATCAGCGACACACTCGATAAGGTCACATTGCGTCTGTTAGCTCAAACTGCAACGGGTTCGGCGCTGCAAGACAGGGGGAGTTGCTCCCAGGATTGCCATTAAAGGACCCCGCAGTCAAATCGCCGCGAGTTCTGTTAGTGTCAGTTAGTGTGCGGTCGAGAAATTTCATCCTAACCTGGTGTGGTATTGACTTCCAGTCGGCTTTCTCTAGGTCTCTTCCGCTCCTCCAACTACTCCGTCTGTGCCACTCCCCATAGGTAGTTGAGTTGTCTTGATCGGTGGCCCGGCGTACTGCCCGCACCATATCCGTCCTCCTGACGGTTAATTCAGCAGTGAATCAAGACGCTCGTCGTCATATGCCTGCGTCTTAATGAAGCGCCAACTAACGAACTGATCGTGCGTCAATGGGCCTCGTGAGACTTTACCCGGGAG\n",
      "A: 2 4 3 3 2 3 4 5 2 5 1 5 2 1 3 4 3 3 2 1 4 3 3 2 2 2 1 5 2 3 2 2 2 2 3 1 0 1 2 5 2 0 1 3 2 2 5 3 2 0 3 1 2 5 3 0 1 4 3 4 0 4 1 0 4 3 3 4 1 0 2 8 3 3 3 1 2 1 3 2 1 4 3 2 4 2 3 3 5 4 4 0 3 5 4 1 3 3 6 1 2 4 0 2 0 3 1 1 3 6 1 2 2 4 2 0 1 3 2 3 3 4 3 4 2 2 2 1 2 2 3 3 3 2 4 2 2 4 3 2 2 3 1 4 3 3 2 4 2 3 2 2 3 3 4 2 3 1 5 3 4 3 1 1 4 1 3 5 2 4 3 3 4 3 4 1 4 4 4 1 2 4 3 3 2 1 2 3 1 2 1 1 2 1 2 3 3 4 2 3 3 1 5 4 2 2 1 1 0 1 2 2 3 2 2 3 3 3 2 2 4 0 2 2 4 1 3 4 2 1 3 4 2 3 4 2 0 1 3 4 2 1 1 1 2 1 2 1 3 4 1 2 3 2 4 3 2 1 5 1 2 3 5 5 1 2 1 3 4 4 4 4 1 2 3 2 4 5 1 3 4 3 1 2 3 0 1 5 1 4 2 4 3 3 3 5 2 3 5 1 2 3 3 3 1 5 4 3 1 0 3 2 2 1 2 4 1 3 3 3 3 3 3 3 2 3 0 1 2 4 1 5 0 1 5 2 5 1 4 1 2 2 3 4 3 5 3 1 2 1 3 2 3 3 3 5 2 0 1 6 1 3 1 2 2 1 0 1 4 2 1 6 4 2 4 2 1 4 1 1 2 4 1 2 3 2 5 3 1 4 3 3 1 3 3 2 4 2 3 1 5 3 3 1 1 2 2 4 2 2 1 7 2 3 1 2 3 0 3 1 2 1 3 2 2 2 4 4 4 4 2 3 3 4 2 5 3 4 6 4 3 2 5 3 5 2 1 3 3 3 3 5 1 5 4 3 2 1 4 5 2 1 4 3 3 3 6 2 1 2 4 1 4 2 4 0 1 3 2 1 2 5 4 4 2 6 1 2 2 2 5 3 4 4 3 2 4 3 4 4 5 1 1 0 0 3 3 3 3 0 3 3 4 2 3 2 1 3 5 3 3 1 2 2 4 3 0 0 2 1 4 1 1 0 1 3 3 0 3 4 2 5 4 3 5 2 3 1 3 3 3 2 4 2 1 3 2 2 2 2 0 1 3 2 2 4 2 3 3 1 1 3 1 1 5 5 6 2 3 5 1 0 2 3 2 3 5 2 0 2 5 4 4 1 3 3 1 3 3 3 1 4 3 1 2 1 3 2 3 2 4 2 1 3 1 3 3 3 2 2 5 1 3 2 2 2 2 1 2 1 2 2 4 2 4 5 3 1 2 3 1 4 2 2 3 3 3 3 1 1 2 1 2 1 3 3 0 3 4 6 1 3 3 5 0 3 1 1 2 4 3 3 1 1 3 2 2 2 0 1 2 2 2 4 3 2 2 2 2 1 1 0 2 1 3 3 2 3 2 1 2 3 6 7 3 2 5 3 4 0 1 3 1 0 3 2 2 3 2 3 5 0 3 1 3 3 1 4 2 4 1 3 3 5 3 2 1 2 3 0 2 2 2 3 1 0 0 3 4 1 2 2 3 2 2 2 1 4 0 2 1 1 2 2 4 0 2 2 1 2 3 1 2 3 1 2 7 2 4 0 3 2 1 2 2 0 2 0 1 1 1 5 3 3 2 2 3 3 3 2 0 1 6 0 3 3 2 2 1 5 3 2 1 5 5 1 3 2 2 3 1 2 3 1 2 3 3 2 4 3 4 3 3 1 2 0 4 3 3 3 3 2 2 4 4 1 2 4 5 1 2 1 4 1 4 4 1 1 4 4 2 3 4 4 1 2 2 6 2 1 3 1 4 3 2 2 3 4 4 0 2 1 1 3 3 4 3 2 1 3 3 2 6 1 0 2 2 5 1 3 2 4 1 3 4 2\n",
      "C: 3 4 3 3 2 2 2 1 2 1 4 2 4 2 1 1 3 3 4 3 1 0 5 4 5 3 3 2 4 2 1 3 3 2 2 4 4 1 2 0 4 4 1 3 2 2 0 3 2 3 2 1 2 4 2 2 3 1 1 2 2 5 5 5 2 4 2 4 3 2 2 0 0 4 2 3 2 1 5 3 1 1 5 3 3 3 0 5 3 2 2 4 2 2 3 4 1 3 0 3 2 1 4 4 3 1 3 3 2 3 4 5 2 3 3 6 4 1 3 0 3 2 3 2 4 2 1 2 5 1 2 2 1 2 2 6 4 1 3 1 1 3 2 3 4 2 3 1 2 2 2 3 2 0 0 1 1 3 1 2 2 3 4 2 1 4 4 2 3 1 2 5 1 1 0 4 1 2 2 4 2 0 0 2 3 1 3 1 2 3 2 4 3 2 3 3 2 1 4 4 4 2 3 3 4 4 6 1 4 2 5 5 2 4 0 1 3 2 1 3 0 3 1 3 2 4 4 2 1 2 1 2 2 3 2 3 4 3 3 4 4 3 4 3 1 1 2 4 4 1 3 3 1 3 0 3 1 2 0 2 5 3 1 1 2 3 4 2 3 4 4 2 4 1 2 2 2 1 1 2 2 3 4 4 2 1 4 1 5 0 2 2 3 2 1 3 2 1 0 6 1 2 1 3 3 2 1 0 3 3 2 2 2 5 2 1 3 2 2 2 0 4 2 4 2 1 2 3 1 2 2 3 4 1 1 4 2 0 0 3 1 2 2 4 0 1 3 3 2 2 3 2 2 2 2 0 4 3 6 3 4 1 3 5 4 3 2 5 1 0 1 2 3 6 0 1 2 3 2 4 3 2 2 3 2 2 2 4 3 2 4 2 4 2 1 4 1 1 2 2 1 1 3 5 4 2 3 1 3 2 2 0 1 4 2 1 2 4 2 6 1 0 2 2 2 1 2 2 0 2 2 3 1 2 3 2 1 1 1 1 2 1 1 4 3 2 3 2 3 4 1 3 3 3 2 4 2 2 2 1 2 2 0 4 4 3 0 1 4 4 2 2 3 1 0 2 5 2 0 7 3 2 5 2 5 3 4 1 3 2 1 3 4 3 3 2 1 5 4 5 0 2 2 3 4 2 2 3 2 3 1 1 1 3 3 2 5 3 2 2 5 2 3 3 2 2 5 1 0 2 1 1 5 2 4 5 2 4 2 0 5 2 3 2 2 4 3 4 2 1 2 2 2 3 3 1 1 5 3 4 4 5 1 2 2 1 3 3 1 4 5 2 1 1 3 1 1 1 2 2 6 5 4 3 2 5 3 2 3 4 2 2 2 3 3 1 4 4 1 3 1 3 3 2 3 4 1 2 2 3 3 1 3 2 3 4 3 0 2 3 2 1 3 2 1 1 3 2 3 1 3 3 2 3 2 3 3 1 3 1 5 4 2 4 5 1 2 3 3 5 2 2 2 2 0 2 2 1 1 2 3 1 3 1 4 1 3 4 5 0 1 2 6 2 1 4 1 1 3 4 3 6 2 3 2 2 1 6 1 5 1 3 4 4 1 3 2 5 3 1 4 4 1 2 3 2 4 4 2 5 6 0 3 4 2 3 3 1 4 5 1 5 2 4 5 4 3 2 2 2 3 2 2 3 1 2 1 1 3 3 1 2 1 1 4 3 2 1 0 3 3 2 2 2 3 2 4 5 7 4 1 5 1 1 3 4 2 1 4 4 4 2 4 3 4 3 0 1 2 1 4 4 2 1 4 5 1 5 5 3 3 2 4 1 1 2 2 3 2 1 2 5 1 3 3 2 2 3 4 1 1 3 5 2 1 3 3 4 3 4 0 6 3 1 5 1 1 5 1 1 2 1 2 4 5 2 1 4 1 1 5 1 2 3 2 1 2 1 1 1 4 3 5 4 3 2 5 3 1 1 3 1 2 1 4 1 2 3 3 4 1 2 1 3 2 3 5 1 2 3 2 1 3 4 5 0 4 3 4 2 1 3 1 4 4 1 2 0 4 3 3 1 2 3 2 3\n",
      "G: 3 0 3 2 4 3 2 2 2 2 2 0 2 6 2 1 2 2 1 5 1 3 1 3 2 2 2 1 1 3 4 3 2 3 2 1 4 5 5 2 1 4 4 4 4 5 2 2 3 4 4 3 1 1 1 4 3 3 4 3 3 0 2 3 2 1 2 0 4 4 2 1 4 1 2 2 5 5 0 2 4 5 2 3 2 3 1 0 2 3 4 3 3 2 1 2 3 3 2 3 2 1 3 1 3 3 1 3 2 0 2 2 5 2 4 2 3 5 4 2 1 2 3 3 1 0 3 4 2 3 2 2 3 4 1 2 2 3 3 3 3 2 1 2 2 3 3 3 2 3 2 3 2 3 1 4 1 4 3 1 2 2 3 2 2 3 2 0 2 3 2 0 2 2 0 2 4 2 2 2 4 3 4 3 2 5 2 2 2 3 2 0 2 5 1 2 4 5 1 2 0 2 2 3 2 1 0 4 2 3 1 0 4 3 4 3 3 3 4 3 5 4 2 2 2 3 3 3 2 2 4 4 3 3 1 2 3 2 1 0 2 4 4 5 4 5 5 3 1 3 3 3 3 3 4 1 6 1 3 1 1 3 1 2 5 4 3 2 3 1 0 1 3 3 1 2 3 2 4 2 2 0 3 3 2 6 3 1 1 3 4 3 2 0 2 0 2 2 2 1 3 2 2 3 3 0 2 4 2 4 4 4 3 3 3 4 3 3 3 2 2 3 3 2 1 2 3 3 6 3 2 1 5 5 2 1 0 5 5 4 4 4 2 1 1 3 1 3 3 3 3 1 2 4 3 1 3 3 0 1 2 4 4 2 3 5 5 2 3 4 4 0 3 2 3 5 3 1 2 3 5 4 5 3 3 2 1 0 1 3 3 4 1 4 3 1 3 3 3 6 2 3 2 2 4 1 4 3 4 3 3 3 4 1 4 3 2 2 2 2 3 4 2 3 4 5 3 2 2 4 3 1 3 2 2 2 2 2 1 1 1 2 2 3 2 3 2 2 2 3 1 2 4 1 1 2 2 2 2 1 2 5 3 3 1 2 2 4 2 2 3 6 2 4 4 3 2 3 5 1 3 3 1 3 1 0 1 3 3 3 1 0 0 2 3 3 1 0 1 0 1 3 1 4 3 3 0 2 1 5 2 1 2 4 1 3 2 1 2 2 2 2 3 3 3 2 5 5 5 4 1 4 4 6 4 1 3 2 1 4 1 3 1 3 1 3 2 4 4 3 4 3 1 3 3 2 5 3 1 0 3 0 3 5 5 2 1 0 4 3 3 3 4 3 1 2 1 5 3 1 1 1 1 2 4 1 1 4 3 0 2 2 2 2 3 5 2 0 5 3 4 2 3 3 1 3 1 5 2 1 1 4 2 4 2 2 2 4 3 1 1 5 0 4 2 4 2 4 4 3 3 3 1 3 0 0 2 4 2 1 2 1 2 2 1 3 3 2 3 3 2 5 4 2 5 1 5 4 1 2 2 1 3 3 3 3 3 2 0 3 4 1 2 5 5 2 2 2 3 1 2 1 3 1 4 5 2 2 3 2 4 3 2 4 3 2 0 1 2 3 2 2 2 1 1 3 0 1 0 3 1 4 2 2 1 3 2 4 3 0 1 2 1 2 2 1 3 1 3 4 3 4 2 2 6 2 2 4 1 4 3 2 4 0 2 2 2 3 3 2 3 4 3 2 4 4 2 0 2 4 7 2 4 3 0 3 2 5 2 1 2 4 4 2 2 3 3 3 2 2 2 1 5 2 2 1 2 1 2 2 3 2 2 3 5 3 2 1 3 3 3 3 2 5 2 3 4 1 5 1 3 1 2 1 2 4 3 2 4 3 4 2 3 4 3 6 2 1 3 1 2 2 4 2 1 4 4 2 5 2 1 1 3 2 3 4 4 2 1 5 2 3 1 2 1 2 2 2 2 1 2 4 2 4 2 3 4 1 1 3 3 3 5 2 4 2 1 3 1 2 3 6 4 1 0 1 1 3 1 3 3 3 2 3 2 3 2 2 3 1 2 5 5 4 3 3\n",
      "T: 2 2 1 2 2 2 2 2 4 2 3 3 2 1 4 4 2 2 3 1 4 4 1 1 1 3 4 2 3 2 3 2 3 3 3 4 2 3 1 3 3 2 4 0 2 1 3 2 3 3 1 5 5 0 4 4 3 2 2 1 5 1 2 2 2 2 3 2 2 4 4 1 3 2 3 4 1 3 2 3 4 0 0 2 1 2 6 2 0 1 0 3 2 1 2 3 3 1 2 3 4 4 3 3 4 3 5 3 3 1 3 1 1 1 1 2 2 1 1 5 3 2 1 1 3 6 4 3 1 4 3 3 3 2 3 0 2 2 1 4 4 2 6 1 1 2 2 2 4 2 4 2 3 4 5 3 5 2 1 4 2 2 2 5 3 2 1 3 3 2 3 2 3 4 6 3 1 2 2 3 2 3 3 2 3 3 3 4 5 2 5 5 3 2 4 2 1 0 3 1 3 5 0 0 2 3 3 4 4 4 2 3 1 1 4 3 1 2 3 2 1 3 5 3 2 2 0 1 5 5 2 0 3 1 3 3 3 4 3 2 2 2 1 1 3 3 1 2 2 2 3 2 3 2 2 3 1 6 2 6 2 1 3 2 2 1 2 3 0 1 2 3 2 4 4 4 1 2 4 3 2 4 2 1 3 3 2 3 3 3 2 1 2 5 4 2 4 4 3 2 4 3 4 1 3 3 3 3 4 3 1 2 3 1 3 1 3 2 2 3 5 0 2 1 5 4 5 3 1 1 5 1 1 3 2 3 3 4 1 2 3 2 3 1 6 1 3 3 3 4 1 5 3 1 2 4 1 4 3 0 3 2 2 1 1 1 3 2 2 4 4 2 0 0 3 2 4 2 5 2 0 0 2 2 2 4 2 3 5 1 0 1 4 1 3 3 2 4 2 1 2 3 2 2 1 5 1 2 1 3 4 0 3 2 3 4 3 4 3 1 4 5 3 3 2 2 1 2 4 0 3 3 3 2 3 1 4 3 2 4 4 5 2 0 0 3 4 3 2 0 5 0 2 1 3 1 4 5 2 3 4 2 3 0 2 2 2 3 3 2 1 1 1 3 2 5 2 2 3 1 2 0 0 1 2 1 4 4 2 3 3 4 2 1 1 3 4 2 1 1 4 4 6 3 3 2 5 2 4 2 4 5 3 1 3 3 2 3 1 3 0 5 2 2 1 3 0 4 3 3 4 4 0 2 1 1 2 4 4 2 2 0 2 2 2 1 2 1 1 3 1 3 3 2 3 4 2 0 4 4 3 4 3 1 1 3 4 4 2 2 1 2 4 5 1 2 2 2 2 2 2 4 3 2 2 1 1 2 4 4 1 2 2 4 1 1 3 3 1 1 4 1 1 4 4 2 5 1 3 4 2 3 4 1 4 1 2 3 3 4 2 3 4 2 5 3 3 3 1 5 2 2 3 2 4 2 2 4 3 5 2 1 4 2 1 3 2 2 3 1 4 2 2 5 2 4 3 2 4 0 4 5 1 1 3 3 3 3 3 3 2 4 1 2 1 2 5 5 4 4 3 1 3 2 1 1 5 0 4 2 4 4 2 1 3 2 6 1 3 5 2 1 1 0 3 3 1 2 4 2 2 3 4 4 4 2 3 2 1 2 3 3 4 3 0 2 3 3 3 0 3 1 3 0 0 4 6 3 3 3 4 4 3 6 3 5 6 3 3 4 2 2 2 4 1 2 3 1 1 0 1 2 3 4 3 3 4 2 3 3 1 3 0 2 3 2 0 4 2 7 1 3 2 5 2 4 5 4 2 4 3 1 1 3 2 3 3 3 2 4 5 1 1 2 2 2 2 4 0 3 3 4 2 2 2 2 1 2 1 0 5 0 1 4 0 0 4 2 2 5 2 4 1 3 2 4 1 1 1 4 1 6 3 1 1 4 2 3 3 3 2 3 0 3 2 2 2 4 3 4 3 2 2 1 3 4 2 0 4 2 3 4 0 2 2 3 1 2 3 5 3 2 2 2 2 5 2 2 4 2 3 2 1 2 4 4 4 3 2 3 3 0 2 0 1 2\n"
     ]
    }
   ],
   "source": [
    "# Submission\n",
    "solve('./txt/rosalind_cons.txt')"
   ]
  },
  {
   "cell_type": "code",
   "execution_count": null,
   "metadata": {
    "collapsed": true
   },
   "outputs": [],
   "source": []
  }
 ],
 "metadata": {
  "kernelspec": {
   "display_name": "Python 3",
   "language": "python",
   "name": "python3"
  },
  "language_info": {
   "codemirror_mode": {
    "name": "ipython",
    "version": 3
   },
   "file_extension": ".py",
   "mimetype": "text/x-python",
   "name": "python",
   "nbconvert_exporter": "python",
   "pygments_lexer": "ipython3",
   "version": "3.4.3"
  }
 },
 "nbformat": 4,
 "nbformat_minor": 0
}
