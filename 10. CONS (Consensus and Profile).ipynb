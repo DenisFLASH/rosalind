{
 "cells": [
  {
   "cell_type": "code",
   "execution_count": 1,
   "metadata": {
    "collapsed": true
   },
   "outputs": [],
   "source": [
    "import numpy as np\n",
    "import random\n",
    "\n",
    "from tools import read_fasta_file"
   ]
  },
  {
   "cell_type": "code",
   "execution_count": 2,
   "metadata": {
    "collapsed": true
   },
   "outputs": [],
   "source": [
    "def calc_profile_matrix(dna_strings):\n",
    "    \"\"\"\n",
    "    Given a list of DNA strings, build a profile matrix by counting the number of occurrences of each symbol at each position.\n",
    "    \n",
    "    DNA Strings:\n",
    "    A T C C A G C T\n",
    "    G G G C A A C T\n",
    "    A T G G A T C T\n",
    "    A A G C A A C C\n",
    "    T T G G A A C T\n",
    "    A T G C C A T T\n",
    "    A T G G C A C T\n",
    "    \n",
    "    Profile:\n",
    "A   5 1 0 0 5 5 0 0\n",
    "C   0 0 1 4 2 0 6 1\n",
    "G   1 1 6 3 0 1 0 0\n",
    "T   1 5 0 0 0 1 1 6\n",
    "\n",
    "    Args:\n",
    "        + dna_strings (list of str): DNA strings to be analyzed\n",
    "    \n",
    "    Returns:\n",
    "        profile (np.ndarray): profile matrix as a numpy.ndarray\n",
    "    \"\"\"\n",
    "    n = len(dna_strings[0])\n",
    "    profile = np.zeros(shape=(4,n), dtype=np.int64)\n",
    "    \n",
    "    for s in dna_strings:\n",
    "        s = s.upper()\n",
    "        for pos in range(n):\n",
    "            if s[pos] == 'A':\n",
    "                row_id = 0\n",
    "            elif s[pos] == 'C':\n",
    "                row_id = 1\n",
    "            elif s[pos] == 'G':\n",
    "                row_id = 2\n",
    "            elif s[pos] == 'T':\n",
    "                row_id = 3\n",
    "            profile[row_id, pos] += 1\n",
    "    \n",
    "    return profile"
   ]
  },
  {
   "cell_type": "code",
   "execution_count": 3,
   "metadata": {
    "collapsed": true
   },
   "outputs": [],
   "source": [
    "def calc_consensus_string(profile):\n",
    "    \"\"\"\n",
    "    Calculate consensus string of the given profile matrix.\n",
    "    If several possible consensus strings exist, return any one of them, chosen randomly,\n",
    "    in order not to introduce bias towards any of nucleotide.\n",
    "    \n",
    "    Args:\n",
    "        + profile (numpy.ndarray) profile matrix\n",
    "    \n",
    "    Returns:\n",
    "        (str) consensus string\n",
    "    \"\"\"\n",
    "    consensus = str()\n",
    "    for pos in range(profile.shape[1]):\n",
    "        profile_column = profile[:, pos]\n",
    "        max_count = max(profile_column)\n",
    "        # If maximum count occurs just for one row (nucleotide), select corresponding nucleotide. \n",
    "        # Otherwise, randomly pick a nucleotide out of those having maximum count.\n",
    "        row_indices_of_max_count = np.argwhere(profile_column == max_count).flatten()\n",
    "        if len(row_indices_of_max_count) == 1:\n",
    "            selected_row = row_indices_of_max_count[0]\n",
    "        else:\n",
    "            selected_row = random.choice(row_indices_of_max_count)\n",
    "        consensus += ['A', 'C', 'G', 'T'][selected_row]\n",
    "    return consensus"
   ]
  },
  {
   "cell_type": "code",
   "execution_count": 4,
   "metadata": {
    "collapsed": true
   },
   "outputs": [],
   "source": [
    "def solve(path):\n",
    "    fasta = read_fasta_file(path)\n",
    "    dna_strings = list(fasta.values())\n",
    "    profile = calc_profile_matrix(dna_strings)\n",
    "    consensus = calc_consensus_string(profile)\n",
    "    print(consensus)\n",
    "    for i in range(4):\n",
    "        nucleotide = ['A', 'C', 'G', 'T'][i]\n",
    "        row_profile = ' '.join([str(count) for count in profile[i, :]]  )\n",
    "        print(\"{0}: {1}\".format(nucleotide, row_profile))"
   ]
  },
  {
   "cell_type": "code",
   "execution_count": 5,
   "metadata": {
    "collapsed": false
   },
   "outputs": [
    {
     "name": "stdout",
     "output_type": "stream",
     "text": [
      "ATGCAACT\n",
      "A: 5 1 0 0 5 5 0 0\n",
      "C: 0 0 1 4 2 0 6 1\n",
      "G: 1 1 6 3 0 1 0 0\n",
      "T: 1 5 0 0 0 1 1 6\n"
     ]
    }
   ],
   "source": [
    "# Test\n",
    "solve('./txt/rosalind_cons_test.txt')"
   ]
  },
  {
   "cell_type": "code",
   "execution_count": 6,
   "metadata": {
    "collapsed": false,
    "scrolled": true
   },
   "outputs": [
    {
     "name": "stdout",
     "output_type": "stream",
     "text": [
      "CAAAGAAATACACGTAACCGTTCCCCTACGGGCTATCGGACCTGGGACTGGTTATGCAGATCCCACTAGGTAGCTTGGCCGGCCAGTCAAGCAAACACATTACCTTTTTACCGAGCCGGTCAGACTTGCTTTAGACCAATTCTACGCATGTCTTTGTGATACCTACCATAACATTCAAACGAGACGCTTGTTTGTAGGCCCTAACCCTCTCCGCGACGGGGGTCACCATTGATCATCTTACGCGGGGCCACGTCAAGTATCCAAGGCAAAAACTTTAATAATCCAGCACAGAATTATTACTATACAAGTGGGTCGACGGTTCACTTTGGATAGGACAGGGGGACTAAGGTGTTGGACTCACGGCCGGCAGTAACAGTATCGAGCGTACTACGTGGCATGGATACCTGAGTTAGCGTACACTTTGGGAATGGCGATATAAATTACAGTTACTAGAACTTAATGACCCAGCCAGAGATCAGCGACACACTCGATCAGGTCACATTGCATCTGTTAGCTCAAACTCGATGGGGTTCGGCGCTACAAGACCCGAGTACTTGCTTCCTGGATTGCCATTAAAGAACCCAGCAGTCAAATAGCCGCGAGTTCTGATAGTGTCCGTTAGTGTGCGGTCCACAACGTTCCTCCGAATCTGGTGTGGAATTGACTGCCAGTCGGCTTTCTCGAGGTCTCGTCGGATCCTCCAACGACTCCGTTTGTGCCACTCCCGAGAGGTAGTTGCGTTGTCTTGATGGATGGCCCCGCGTACTGCCCGCCCCATATCCGTCCTCCTCACAGTTTGTTCAGCGGTGAGTCAAGCCGCTCCTCGTCATATGCCGGCGTCTTAATGAAGCTCCAACTAACGAACTGATCTTGAGTCAATTGGCCTCCCATCACCTTACACGGGAG\n",
      "A: 2 4 3 3 2 3 4 5 2 5 1 5 2 1 3 4 3 3 2 1 4 3 3 2 2 2 1 5 2 3 2 2 2 2 3 1 0 1 2 5 2 0 1 3 2 2 5 3 2 0 3 1 2 5 3 0 1 4 3 4 0 4 1 0 4 3 3 4 1 0 2 8 3 3 3 1 2 1 3 2 1 4 3 2 4 2 3 3 5 4 4 0 3 5 4 1 3 3 6 1 2 4 0 2 0 3 1 1 3 6 1 2 2 4 2 0 1 3 2 3 3 4 3 4 2 2 2 1 2 2 3 3 3 2 4 2 2 4 3 2 2 3 1 4 3 3 2 4 2 3 2 2 3 3 4 2 3 1 5 3 4 3 1 1 4 1 3 5 2 4 3 3 4 3 4 1 4 4 4 1 2 4 3 3 2 1 2 3 1 2 1 1 2 1 2 3 3 4 2 3 3 1 5 4 2 2 1 1 0 1 2 2 3 2 2 3 3 3 2 2 4 0 2 2 4 1 3 4 2 1 3 4 2 3 4 2 0 1 3 4 2 1 1 1 2 1 2 1 3 4 1 2 3 2 4 3 2 1 5 1 2 3 5 5 1 2 1 3 4 4 4 4 1 2 3 2 4 5 1 3 4 3 1 2 3 0 1 5 1 4 2 4 3 3 3 5 2 3 5 1 2 3 3 3 1 5 4 3 1 0 3 2 2 1 2 4 1 3 3 3 3 3 3 3 2 3 0 1 2 4 1 5 0 1 5 2 5 1 4 1 2 2 3 4 3 5 3 1 2 1 3 2 3 3 3 5 2 0 1 6 1 3 1 2 2 1 0 1 4 2 1 6 4 2 4 2 1 4 1 1 2 4 1 2 3 2 5 3 1 4 3 3 1 3 3 2 4 2 3 1 5 3 3 1 1 2 2 4 2 2 1 7 2 3 1 2 3 0 3 1 2 1 3 2 2 2 4 4 4 4 2 3 3 4 2 5 3 4 6 4 3 2 5 3 5 2 1 3 3 3 3 5 1 5 4 3 2 1 4 5 2 1 4 3 3 3 6 2 1 2 4 1 4 2 4 0 1 3 2 1 2 5 4 4 2 6 1 2 2 2 5 3 4 4 3 2 4 3 4 4 5 1 1 0 0 3 3 3 3 0 3 3 4 2 3 2 1 3 5 3 3 1 2 2 4 3 0 0 2 1 4 1 1 0 1 3 3 0 3 4 2 5 4 3 5 2 3 1 3 3 3 2 4 2 1 3 2 2 2 2 0 1 3 2 2 4 2 3 3 1 1 3 1 1 5 5 6 2 3 5 1 0 2 3 2 3 5 2 0 2 5 4 4 1 3 3 1 3 3 3 1 4 3 1 2 1 3 2 3 2 4 2 1 3 1 3 3 3 2 2 5 1 3 2 2 2 2 1 2 1 2 2 4 2 4 5 3 1 2 3 1 4 2 2 3 3 3 3 1 1 2 1 2 1 3 3 0 3 4 6 1 3 3 5 0 3 1 1 2 4 3 3 1 1 3 2 2 2 0 1 2 2 2 4 3 2 2 2 2 1 1 0 2 1 3 3 2 3 2 1 2 3 6 7 3 2 5 3 4 0 1 3 1 0 3 2 2 3 2 3 5 0 3 1 3 3 1 4 2 4 1 3 3 5 3 2 1 2 3 0 2 2 2 3 1 0 0 3 4 1 2 2 3 2 2 2 1 4 0 2 1 1 2 2 4 0 2 2 1 2 3 1 2 3 1 2 7 2 4 0 3 2 1 2 2 0 2 0 1 1 1 5 3 3 2 2 3 3 3 2 0 1 6 0 3 3 2 2 1 5 3 2 1 5 5 1 3 2 2 3 1 2 3 1 2 3 3 2 4 3 4 3 3 1 2 0 4 3 3 3 3 2 2 4 4 1 2 4 5 1 2 1 4 1 4 4 1 1 4 4 2 3 4 4 1 2 2 6 2 1 3 1 4 3 2 2 3 4 4 0 2 1 1 3 3 4 3 2 1 3 3 2 6 1 0 2 2 5 1 3 2 4 1 3 4 2\n",
      "C: 3 4 3 3 2 2 2 1 2 1 4 2 4 2 1 1 3 3 4 3 1 0 5 4 5 3 3 2 4 2 1 3 3 2 2 4 4 1 2 0 4 4 1 3 2 2 0 3 2 3 2 1 2 4 2 2 3 1 1 2 2 5 5 5 2 4 2 4 3 2 2 0 0 4 2 3 2 1 5 3 1 1 5 3 3 3 0 5 3 2 2 4 2 2 3 4 1 3 0 3 2 1 4 4 3 1 3 3 2 3 4 5 2 3 3 6 4 1 3 0 3 2 3 2 4 2 1 2 5 1 2 2 1 2 2 6 4 1 3 1 1 3 2 3 4 2 3 1 2 2 2 3 2 0 0 1 1 3 1 2 2 3 4 2 1 4 4 2 3 1 2 5 1 1 0 4 1 2 2 4 2 0 0 2 3 1 3 1 2 3 2 4 3 2 3 3 2 1 4 4 4 2 3 3 4 4 6 1 4 2 5 5 2 4 0 1 3 2 1 3 0 3 1 3 2 4 4 2 1 2 1 2 2 3 2 3 4 3 3 4 4 3 4 3 1 1 2 4 4 1 3 3 1 3 0 3 1 2 0 2 5 3 1 1 2 3 4 2 3 4 4 2 4 1 2 2 2 1 1 2 2 3 4 4 2 1 4 1 5 0 2 2 3 2 1 3 2 1 0 6 1 2 1 3 3 2 1 0 3 3 2 2 2 5 2 1 3 2 2 2 0 4 2 4 2 1 2 3 1 2 2 3 4 1 1 4 2 0 0 3 1 2 2 4 0 1 3 3 2 2 3 2 2 2 2 0 4 3 6 3 4 1 3 5 4 3 2 5 1 0 1 2 3 6 0 1 2 3 2 4 3 2 2 3 2 2 2 4 3 2 4 2 4 2 1 4 1 1 2 2 1 1 3 5 4 2 3 1 3 2 2 0 1 4 2 1 2 4 2 6 1 0 2 2 2 1 2 2 0 2 2 3 1 2 3 2 1 1 1 1 2 1 1 4 3 2 3 2 3 4 1 3 3 3 2 4 2 2 2 1 2 2 0 4 4 3 0 1 4 4 2 2 3 1 0 2 5 2 0 7 3 2 5 2 5 3 4 1 3 2 1 3 4 3 3 2 1 5 4 5 0 2 2 3 4 2 2 3 2 3 1 1 1 3 3 2 5 3 2 2 5 2 3 3 2 2 5 1 0 2 1 1 5 2 4 5 2 4 2 0 5 2 3 2 2 4 3 4 2 1 2 2 2 3 3 1 1 5 3 4 4 5 1 2 2 1 3 3 1 4 5 2 1 1 3 1 1 1 2 2 6 5 4 3 2 5 3 2 3 4 2 2 2 3 3 1 4 4 1 3 1 3 3 2 3 4 1 2 2 3 3 1 3 2 3 4 3 0 2 3 2 1 3 2 1 1 3 2 3 1 3 3 2 3 2 3 3 1 3 1 5 4 2 4 5 1 2 3 3 5 2 2 2 2 0 2 2 1 1 2 3 1 3 1 4 1 3 4 5 0 1 2 6 2 1 4 1 1 3 4 3 6 2 3 2 2 1 6 1 5 1 3 4 4 1 3 2 5 3 1 4 4 1 2 3 2 4 4 2 5 6 0 3 4 2 3 3 1 4 5 1 5 2 4 5 4 3 2 2 2 3 2 2 3 1 2 1 1 3 3 1 2 1 1 4 3 2 1 0 3 3 2 2 2 3 2 4 5 7 4 1 5 1 1 3 4 2 1 4 4 4 2 4 3 4 3 0 1 2 1 4 4 2 1 4 5 1 5 5 3 3 2 4 1 1 2 2 3 2 1 2 5 1 3 3 2 2 3 4 1 1 3 5 2 1 3 3 4 3 4 0 6 3 1 5 1 1 5 1 1 2 1 2 4 5 2 1 4 1 1 5 1 2 3 2 1 2 1 1 1 4 3 5 4 3 2 5 3 1 1 3 1 2 1 4 1 2 3 3 4 1 2 1 3 2 3 5 1 2 3 2 1 3 4 5 0 4 3 4 2 1 3 1 4 4 1 2 0 4 3 3 1 2 3 2 3\n",
      "G: 3 0 3 2 4 3 2 2 2 2 2 0 2 6 2 1 2 2 1 5 1 3 1 3 2 2 2 1 1 3 4 3 2 3 2 1 4 5 5 2 1 4 4 4 4 5 2 2 3 4 4 3 1 1 1 4 3 3 4 3 3 0 2 3 2 1 2 0 4 4 2 1 4 1 2 2 5 5 0 2 4 5 2 3 2 3 1 0 2 3 4 3 3 2 1 2 3 3 2 3 2 1 3 1 3 3 1 3 2 0 2 2 5 2 4 2 3 5 4 2 1 2 3 3 1 0 3 4 2 3 2 2 3 4 1 2 2 3 3 3 3 2 1 2 2 3 3 3 2 3 2 3 2 3 1 4 1 4 3 1 2 2 3 2 2 3 2 0 2 3 2 0 2 2 0 2 4 2 2 2 4 3 4 3 2 5 2 2 2 3 2 0 2 5 1 2 4 5 1 2 0 2 2 3 2 1 0 4 2 3 1 0 4 3 4 3 3 3 4 3 5 4 2 2 2 3 3 3 2 2 4 4 3 3 1 2 3 2 1 0 2 4 4 5 4 5 5 3 1 3 3 3 3 3 4 1 6 1 3 1 1 3 1 2 5 4 3 2 3 1 0 1 3 3 1 2 3 2 4 2 2 0 3 3 2 6 3 1 1 3 4 3 2 0 2 0 2 2 2 1 3 2 2 3 3 0 2 4 2 4 4 4 3 3 3 4 3 3 3 2 2 3 3 2 1 2 3 3 6 3 2 1 5 5 2 1 0 5 5 4 4 4 2 1 1 3 1 3 3 3 3 1 2 4 3 1 3 3 0 1 2 4 4 2 3 5 5 2 3 4 4 0 3 2 3 5 3 1 2 3 5 4 5 3 3 2 1 0 1 3 3 4 1 4 3 1 3 3 3 6 2 3 2 2 4 1 4 3 4 3 3 3 4 1 4 3 2 2 2 2 3 4 2 3 4 5 3 2 2 4 3 1 3 2 2 2 2 2 1 1 1 2 2 3 2 3 2 2 2 3 1 2 4 1 1 2 2 2 2 1 2 5 3 3 1 2 2 4 2 2 3 6 2 4 4 3 2 3 5 1 3 3 1 3 1 0 1 3 3 3 1 0 0 2 3 3 1 0 1 0 1 3 1 4 3 3 0 2 1 5 2 1 2 4 1 3 2 1 2 2 2 2 3 3 3 2 5 5 5 4 1 4 4 6 4 1 3 2 1 4 1 3 1 3 1 3 2 4 4 3 4 3 1 3 3 2 5 3 1 0 3 0 3 5 5 2 1 0 4 3 3 3 4 3 1 2 1 5 3 1 1 1 1 2 4 1 1 4 3 0 2 2 2 2 3 5 2 0 5 3 4 2 3 3 1 3 1 5 2 1 1 4 2 4 2 2 2 4 3 1 1 5 0 4 2 4 2 4 4 3 3 3 1 3 0 0 2 4 2 1 2 1 2 2 1 3 3 2 3 3 2 5 4 2 5 1 5 4 1 2 2 1 3 3 3 3 3 2 0 3 4 1 2 5 5 2 2 2 3 1 2 1 3 1 4 5 2 2 3 2 4 3 2 4 3 2 0 1 2 3 2 2 2 1 1 3 0 1 0 3 1 4 2 2 1 3 2 4 3 0 1 2 1 2 2 1 3 1 3 4 3 4 2 2 6 2 2 4 1 4 3 2 4 0 2 2 2 3 3 2 3 4 3 2 4 4 2 0 2 4 7 2 4 3 0 3 2 5 2 1 2 4 4 2 2 3 3 3 2 2 2 1 5 2 2 1 2 1 2 2 3 2 2 3 5 3 2 1 3 3 3 3 2 5 2 3 4 1 5 1 3 1 2 1 2 4 3 2 4 3 4 2 3 4 3 6 2 1 3 1 2 2 4 2 1 4 4 2 5 2 1 1 3 2 3 4 4 2 1 5 2 3 1 2 1 2 2 2 2 1 2 4 2 4 2 3 4 1 1 3 3 3 5 2 4 2 1 3 1 2 3 6 4 1 0 1 1 3 1 3 3 3 2 3 2 3 2 2 3 1 2 5 5 4 3 3\n",
      "T: 2 2 1 2 2 2 2 2 4 2 3 3 2 1 4 4 2 2 3 1 4 4 1 1 1 3 4 2 3 2 3 2 3 3 3 4 2 3 1 3 3 2 4 0 2 1 3 2 3 3 1 5 5 0 4 4 3 2 2 1 5 1 2 2 2 2 3 2 2 4 4 1 3 2 3 4 1 3 2 3 4 0 0 2 1 2 6 2 0 1 0 3 2 1 2 3 3 1 2 3 4 4 3 3 4 3 5 3 3 1 3 1 1 1 1 2 2 1 1 5 3 2 1 1 3 6 4 3 1 4 3 3 3 2 3 0 2 2 1 4 4 2 6 1 1 2 2 2 4 2 4 2 3 4 5 3 5 2 1 4 2 2 2 5 3 2 1 3 3 2 3 2 3 4 6 3 1 2 2 3 2 3 3 2 3 3 3 4 5 2 5 5 3 2 4 2 1 0 3 1 3 5 0 0 2 3 3 4 4 4 2 3 1 1 4 3 1 2 3 2 1 3 5 3 2 2 0 1 5 5 2 0 3 1 3 3 3 4 3 2 2 2 1 1 3 3 1 2 2 2 3 2 3 2 2 3 1 6 2 6 2 1 3 2 2 1 2 3 0 1 2 3 2 4 4 4 1 2 4 3 2 4 2 1 3 3 2 3 3 3 2 1 2 5 4 2 4 4 3 2 4 3 4 1 3 3 3 3 4 3 1 2 3 1 3 1 3 2 2 3 5 0 2 1 5 4 5 3 1 1 5 1 1 3 2 3 3 4 1 2 3 2 3 1 6 1 3 3 3 4 1 5 3 1 2 4 1 4 3 0 3 2 2 1 1 1 3 2 2 4 4 2 0 0 3 2 4 2 5 2 0 0 2 2 2 4 2 3 5 1 0 1 4 1 3 3 2 4 2 1 2 3 2 2 1 5 1 2 1 3 4 0 3 2 3 4 3 4 3 1 4 5 3 3 2 2 1 2 4 0 3 3 3 2 3 1 4 3 2 4 4 5 2 0 0 3 4 3 2 0 5 0 2 1 3 1 4 5 2 3 4 2 3 0 2 2 2 3 3 2 1 1 1 3 2 5 2 2 3 1 2 0 0 1 2 1 4 4 2 3 3 4 2 1 1 3 4 2 1 1 4 4 6 3 3 2 5 2 4 2 4 5 3 1 3 3 2 3 1 3 0 5 2 2 1 3 0 4 3 3 4 4 0 2 1 1 2 4 4 2 2 0 2 2 2 1 2 1 1 3 1 3 3 2 3 4 2 0 4 4 3 4 3 1 1 3 4 4 2 2 1 2 4 5 1 2 2 2 2 2 2 4 3 2 2 1 1 2 4 4 1 2 2 4 1 1 3 3 1 1 4 1 1 4 4 2 5 1 3 4 2 3 4 1 4 1 2 3 3 4 2 3 4 2 5 3 3 3 1 5 2 2 3 2 4 2 2 4 3 5 2 1 4 2 1 3 2 2 3 1 4 2 2 5 2 4 3 2 4 0 4 5 1 1 3 3 3 3 3 3 2 4 1 2 1 2 5 5 4 4 3 1 3 2 1 1 5 0 4 2 4 4 2 1 3 2 6 1 3 5 2 1 1 0 3 3 1 2 4 2 2 3 4 4 4 2 3 2 1 2 3 3 4 3 0 2 3 3 3 0 3 1 3 0 0 4 6 3 3 3 4 4 3 6 3 5 6 3 3 4 2 2 2 4 1 2 3 1 1 0 1 2 3 4 3 3 4 2 3 3 1 3 0 2 3 2 0 4 2 7 1 3 2 5 2 4 5 4 2 4 3 1 1 3 2 3 3 3 2 4 5 1 1 2 2 2 2 4 0 3 3 4 2 2 2 2 1 2 1 0 5 0 1 4 0 0 4 2 2 5 2 4 1 3 2 4 1 1 1 4 1 6 3 1 1 4 2 3 3 3 2 3 0 3 2 2 2 4 3 4 3 2 2 1 3 4 2 0 4 2 3 4 0 2 2 3 1 2 3 5 3 2 2 2 2 5 2 2 4 2 3 2 1 2 4 4 4 3 2 3 3 0 2 0 1 2\n"
     ]
    }
   ],
   "source": [
    "# Submission\n",
    "solve('./txt/rosalind_cons.txt')"
   ]
  }
 ],
 "metadata": {
  "kernelspec": {
   "display_name": "Python 3",
   "language": "python",
   "name": "python3"
  },
  "language_info": {
   "codemirror_mode": {
    "name": "ipython",
    "version": 3
   },
   "file_extension": ".py",
   "mimetype": "text/x-python",
   "name": "python",
   "nbconvert_exporter": "python",
   "pygments_lexer": "ipython3",
   "version": "3.4.3"
  }
 },
 "nbformat": 4,
 "nbformat_minor": 0
}
