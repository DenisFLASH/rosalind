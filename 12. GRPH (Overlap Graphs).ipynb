{
 "cells": [
  {
   "cell_type": "code",
   "execution_count": 1,
   "metadata": {
    "collapsed": true
   },
   "outputs": [],
   "source": [
    "from tools import read_fasta_file"
   ]
  },
  {
   "cell_type": "code",
   "execution_count": 2,
   "metadata": {
    "collapsed": false
   },
   "outputs": [],
   "source": [
    "def calc_overlap_graph(fasta_dict, k):\n",
    "    \"\"\"\n",
    "    Given a dictionary calculated from a FASTA file, calculate a overlap graph.\n",
    "    \n",
    "    Args:\n",
    "        + fasta_dict ({str: str} dict): dict whose keys are taxon names, values - corresponding DNA strings\n",
    "        + k (int): length of overlap region in characters\n",
    "    \n",
    "    Returns:\n",
    "        (list of (str, str)): adjacency list for overlap graph (directed)\n",
    "    \"\"\"\n",
    "    adjacency_list_overlap = list()\n",
    "    for key1 in fasta_dict:\n",
    "        for key2 in fasta_dict:\n",
    "            if key1 == key2:\n",
    "                continue\n",
    "            if strings_overlapping(fasta_dict[key1], fasta_dict[key2], k):\n",
    "                adjacency_list_overlap.append((key1, key2))\n",
    "    for node1, node2 in adjacency_list_overlap:\n",
    "        print(\"{0} {1}\".format(node1, node2))"
   ]
  },
  {
   "cell_type": "code",
   "execution_count": 3,
   "metadata": {
    "collapsed": true
   },
   "outputs": [],
   "source": [
    "def strings_overlapping(s1, s2, k):\n",
    "    \"\"\"\n",
    "    Args:\n",
    "        + s1, s2 (str): strings to be analyzed on overlap\n",
    "        + k (int): length of suffix/prefix\n",
    "    Returns:\n",
    "        (bool) True if sufix of `s1` is equal to the prefix of `s2`, i.e.:\n",
    "        the last `k` characters of `s1` are equal to the first `k` characters of `s2`.\n",
    "    \"\"\"\n",
    "    return s1[-k:] == s2[:k]"
   ]
  },
  {
   "cell_type": "code",
   "execution_count": 5,
   "metadata": {
    "collapsed": true
   },
   "outputs": [],
   "source": [
    "def solve(path):\n",
    "    d = read_fasta_file(path)\n",
    "    calc_overlap_graph(d, 3)"
   ]
  },
  {
   "cell_type": "code",
   "execution_count": 6,
   "metadata": {
    "collapsed": false
   },
   "outputs": [
    {
     "name": "stdout",
     "output_type": "stream",
     "text": [
      "Rosalind_2391 Rosalind_2323\n",
      "Rosalind_0498 Rosalind_2391\n",
      "Rosalind_0498 Rosalind_0442\n"
     ]
    }
   ],
   "source": [
    "# Test\n",
    "solve('./txt/rosalind_grph_test.txt')"
   ]
  },
  {
   "cell_type": "code",
   "execution_count": 7,
   "metadata": {
    "collapsed": false
   },
   "outputs": [
    {
     "name": "stdout",
     "output_type": "stream",
     "text": [
      "Rosalind_1205 Rosalind_9279\n",
      "Rosalind_1205 Rosalind_9237\n",
      "Rosalind_1205 Rosalind_3695\n",
      "Rosalind_0729 Rosalind_9170\n",
      "Rosalind_0729 Rosalind_2752\n",
      "Rosalind_0729 Rosalind_3515\n",
      "Rosalind_0729 Rosalind_2027\n",
      "Rosalind_7118 Rosalind_0952\n",
      "Rosalind_7118 Rosalind_8619\n",
      "Rosalind_4550 Rosalind_3497\n",
      "Rosalind_9279 Rosalind_1521\n",
      "Rosalind_9279 Rosalind_5240\n",
      "Rosalind_3186 Rosalind_3944\n",
      "Rosalind_3186 Rosalind_8334\n",
      "Rosalind_9974 Rosalind_2031\n",
      "Rosalind_7821 Rosalind_5849\n",
      "Rosalind_8791 Rosalind_0887\n",
      "Rosalind_8791 Rosalind_8587\n",
      "Rosalind_0952 Rosalind_6940\n",
      "Rosalind_0952 Rosalind_4534\n",
      "Rosalind_2252 Rosalind_2031\n",
      "Rosalind_3235 Rosalind_2245\n",
      "Rosalind_7119 Rosalind_7324\n",
      "Rosalind_7119 Rosalind_9663\n",
      "Rosalind_9170 Rosalind_4357\n",
      "Rosalind_2245 Rosalind_2411\n",
      "Rosalind_3964 Rosalind_0729\n",
      "Rosalind_7601 Rosalind_2252\n",
      "Rosalind_8857 Rosalind_1806\n",
      "Rosalind_8857 Rosalind_6397\n",
      "Rosalind_4470 Rosalind_5575\n",
      "Rosalind_7324 Rosalind_9320\n",
      "Rosalind_7850 Rosalind_2031\n",
      "Rosalind_6323 Rosalind_9974\n",
      "Rosalind_3515 Rosalind_1913\n",
      "Rosalind_3515 Rosalind_0255\n",
      "Rosalind_9237 Rosalind_8857\n",
      "Rosalind_9237 Rosalind_4470\n",
      "Rosalind_9237 Rosalind_1127\n",
      "Rosalind_9237 Rosalind_9003\n",
      "Rosalind_9237 Rosalind_4145\n",
      "Rosalind_6136 Rosalind_4357\n",
      "Rosalind_8619 Rosalind_5996\n",
      "Rosalind_7542 Rosalind_1913\n",
      "Rosalind_7542 Rosalind_0255\n",
      "Rosalind_1127 Rosalind_6940\n",
      "Rosalind_1127 Rosalind_4534\n",
      "Rosalind_1913 Rosalind_6940\n",
      "Rosalind_1913 Rosalind_4534\n",
      "Rosalind_1196 Rosalind_8410\n",
      "Rosalind_1196 Rosalind_6426\n",
      "Rosalind_3220 Rosalind_0952\n",
      "Rosalind_3220 Rosalind_8619\n",
      "Rosalind_0887 Rosalind_5996\n",
      "Rosalind_2411 Rosalind_0887\n",
      "Rosalind_2411 Rosalind_8587\n",
      "Rosalind_0717 Rosalind_7601\n",
      "Rosalind_0717 Rosalind_0456\n",
      "Rosalind_0717 Rosalind_9009\n",
      "Rosalind_0717 Rosalind_0834\n",
      "Rosalind_0717 Rosalind_6659\n",
      "Rosalind_7030 Rosalind_1913\n",
      "Rosalind_7030 Rosalind_0255\n",
      "Rosalind_0408 Rosalind_9279\n",
      "Rosalind_0408 Rosalind_9237\n",
      "Rosalind_0408 Rosalind_3695\n",
      "Rosalind_8410 Rosalind_0729\n",
      "Rosalind_3944 Rosalind_1913\n",
      "Rosalind_3944 Rosalind_0255\n",
      "Rosalind_6693 Rosalind_4838\n",
      "Rosalind_6693 Rosalind_8791\n",
      "Rosalind_6693 Rosalind_7030\n",
      "Rosalind_7004 Rosalind_9320\n",
      "Rosalind_9009 Rosalind_3220\n",
      "Rosalind_4377 Rosalind_2031\n",
      "Rosalind_1806 Rosalind_8410\n",
      "Rosalind_1806 Rosalind_6426\n",
      "Rosalind_0646 Rosalind_7601\n",
      "Rosalind_0646 Rosalind_0456\n",
      "Rosalind_0646 Rosalind_9009\n",
      "Rosalind_0646 Rosalind_0834\n",
      "Rosalind_0646 Rosalind_6659\n",
      "Rosalind_8232 Rosalind_9320\n",
      "Rosalind_9003 Rosalind_7542\n",
      "Rosalind_9003 Rosalind_4941\n",
      "Rosalind_2395 Rosalind_1913\n",
      "Rosalind_2395 Rosalind_0255\n",
      "Rosalind_0255 Rosalind_3497\n",
      "Rosalind_1147 Rosalind_3220\n",
      "Rosalind_4624 Rosalind_6693\n",
      "Rosalind_4624 Rosalind_1856\n",
      "Rosalind_7749 Rosalind_2031\n",
      "Rosalind_7606 Rosalind_3944\n",
      "Rosalind_7606 Rosalind_8334\n",
      "Rosalind_2133 Rosalind_0952\n",
      "Rosalind_2133 Rosalind_8619\n",
      "Rosalind_6407 Rosalind_7119\n",
      "Rosalind_6407 Rosalind_4377\n",
      "Rosalind_9663 Rosalind_4550\n",
      "Rosalind_9663 Rosalind_1842\n",
      "Rosalind_5665 Rosalind_6323\n",
      "Rosalind_5665 Rosalind_6407\n",
      "Rosalind_6940 Rosalind_7324\n",
      "Rosalind_6940 Rosalind_9663\n",
      "Rosalind_0035 Rosalind_5996\n",
      "Rosalind_5996 Rosalind_7889\n",
      "Rosalind_0161 Rosalind_6940\n",
      "Rosalind_0161 Rosalind_4534\n",
      "Rosalind_1856 Rosalind_9320\n",
      "Rosalind_6397 Rosalind_2031\n",
      "Rosalind_4998 Rosalind_3235\n",
      "Rosalind_8334 Rosalind_1196\n",
      "Rosalind_8334 Rosalind_0408\n",
      "Rosalind_8334 Rosalind_5119\n",
      "Rosalind_8334 Rosalind_2395\n",
      "Rosalind_7656 Rosalind_3717\n",
      "Rosalind_4941 Rosalind_9974\n",
      "Rosalind_9899 Rosalind_7542\n",
      "Rosalind_9899 Rosalind_4941\n",
      "Rosalind_4145 Rosalind_8232\n",
      "Rosalind_5538 Rosalind_1806\n",
      "Rosalind_5538 Rosalind_6397\n",
      "Rosalind_0834 Rosalind_3186\n",
      "Rosalind_0834 Rosalind_7004\n",
      "Rosalind_0834 Rosalind_0035\n",
      "Rosalind_0834 Rosalind_5538\n",
      "Rosalind_0834 Rosalind_1823\n",
      "Rosalind_7200 Rosalind_9279\n",
      "Rosalind_7200 Rosalind_9237\n",
      "Rosalind_7200 Rosalind_3695\n",
      "Rosalind_4357 Rosalind_3944\n",
      "Rosalind_4357 Rosalind_8334\n",
      "Rosalind_1842 Rosalind_7889\n",
      "Rosalind_8587 Rosalind_5665\n",
      "Rosalind_1558 Rosalind_7200\n",
      "Rosalind_1483 Rosalind_6693\n",
      "Rosalind_1483 Rosalind_1856\n",
      "Rosalind_6659 Rosalind_9320\n",
      "Rosalind_1823 Rosalind_5665\n",
      "Rosalind_2031 Rosalind_0952\n",
      "Rosalind_2031 Rosalind_8619\n",
      "Rosalind_4534 Rosalind_1205\n",
      "Rosalind_4534 Rosalind_7118\n",
      "Rosalind_4534 Rosalind_6136\n",
      "Rosalind_4534 Rosalind_4624\n"
     ]
    }
   ],
   "source": [
    "# Submission\n",
    "solve('./txt/rosalind_grph.txt')"
   ]
  }
 ],
 "metadata": {
  "kernelspec": {
   "display_name": "Python 3",
   "language": "python",
   "name": "python3"
  },
  "language_info": {
   "codemirror_mode": {
    "name": "ipython",
    "version": 3
   },
   "file_extension": ".py",
   "mimetype": "text/x-python",
   "name": "python",
   "nbconvert_exporter": "python",
   "pygments_lexer": "ipython3",
   "version": "3.4.3"
  }
 },
 "nbformat": 4,
 "nbformat_minor": 0
}
