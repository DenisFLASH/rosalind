{
 "cells": [
  {
   "cell_type": "code",
   "execution_count": 1,
   "metadata": {
    "collapsed": true
   },
   "outputs": [],
   "source": [
    "from tools import read_local_file, transcribe_DNA_to_RNA"
   ]
  },
  {
   "cell_type": "code",
   "execution_count": 2,
   "metadata": {
    "collapsed": false
   },
   "outputs": [],
   "source": [
    "def solve(path):\n",
    "    lines = read_local_file(path)\n",
    "    string = lines[0]\n",
    "    return transcribe_DNA_to_RNA(string)"
   ]
  },
  {
   "cell_type": "code",
   "execution_count": 3,
   "metadata": {
    "collapsed": false
   },
   "outputs": [
    {
     "data": {
      "text/plain": [
       "'GAUGGAACUUGACUACGUAAAUU'"
      ]
     },
     "execution_count": 3,
     "metadata": {},
     "output_type": "execute_result"
    }
   ],
   "source": [
    "# Test\n",
    "solve('./txt/rosalind_rna_test.txt')"
   ]
  },
  {
   "cell_type": "code",
   "execution_count": 4,
   "metadata": {
    "collapsed": false
   },
   "outputs": [
    {
     "data": {
      "text/plain": [
       "'GUGAUCUUGCGCAGGCGGUACAAGGGCCUUCUCACCCGAGGAGGUAACUAAUGUCAGUCCCCGUAGAAACUCGAGGUGGCGAGUAACGAGGACAGAGCUACAUCUUUAUUUGGAGACGAAGCCUGGACCCAUGUCGAUCCUAGGUAAAAAGUUGAAUGGACGAUGCUAAAAAGUGAAUACUCUACUAAUUUCCUAAGCUCUGGCGAGAAUCGAGUGCCCAAGUAAGGAGCUGUGCAGGUGCUGUCAUUAUCAUAACAAUCGGCAGUAUAAUAAAAACUAAUUUACUAAGAGGAGCCACUUGGGAACUCAUCUUACACGACUCAUUAAUGUGUAUCCCAGGAAUAACCACAACCCGGCGAUCAAAAGAGUCGAAAAUAAGUUGCAACCCGUACACACAGUGACGAAGAUUUCCGGGCGUUCGGACCCCAACUAGAAACAGCCCCCCACGGUUCUUAAUAAUUUGGACUUUAUGCUCCGAGUCUCAGUGUAGCAUCCGCCGCAAUCGAAGGCCAACUCGGUGGACUCAAAUGCUCCUAUUAUCGGCUCCUGCGGCCCUUCGACGAACGACACAUGGCGUUCAUGAUGCGCAGAUUUAUACCAACGCUAGAGGUGCUAACCCCAAAGAACCGUGUAGCCUCACCGAGACUAACCCGAAGCCCCAACAGACGCUUGCAAGAAGGAAAGGCGCGUUGCAAAGAGGGCGGUGAGAGGGCAAUUAGUAGCACCAGGCGACAGCAUACGUCGAACAAGUAACCACAAUUGUAGUCCGUUCAGCUGGAAAAGGCAUCGCGCACCAUGGGGAGGGCUAAUUUCGCACGACCCUGUAAUCCCUCCGAGAGACCACGAUCGCUUCCUAUUCGCUCGGCCUGCCCGGACAAACUGGUUCUCGGUGCGGGCAUACGAGCCCGUUAUUGAUGGCAACCAGUAGCAAGUUGUUUUCGCUGCACAGCUUUAGUGCUUGUCGGCUUCAACAUAC'"
      ]
     },
     "execution_count": 4,
     "metadata": {},
     "output_type": "execute_result"
    }
   ],
   "source": [
    "# Submission\n",
    "solve('./txt/rosalind_rna.txt')"
   ]
  }
 ],
 "metadata": {
  "kernelspec": {
   "display_name": "Python 3",
   "language": "python",
   "name": "python3"
  },
  "language_info": {
   "codemirror_mode": {
    "name": "ipython",
    "version": 3
   },
   "file_extension": ".py",
   "mimetype": "text/x-python",
   "name": "python",
   "nbconvert_exporter": "python",
   "pygments_lexer": "ipython3",
   "version": "3.4.3"
  }
 },
 "nbformat": 4,
 "nbformat_minor": 0
}
