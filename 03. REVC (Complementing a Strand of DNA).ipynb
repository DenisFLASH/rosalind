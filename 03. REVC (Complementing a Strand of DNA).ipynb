{
 "cells": [
  {
   "cell_type": "code",
   "execution_count": 1,
   "metadata": {
    "collapsed": true
   },
   "outputs": [],
   "source": [
    "from tools import read_local_file"
   ]
  },
  {
   "cell_type": "code",
   "execution_count": 2,
   "metadata": {
    "collapsed": true
   },
   "outputs": [],
   "source": [
    "def reverse_and_complement(s):\n",
    "    complement = {'A': 'T', 'C': 'G', 'G': 'C', 'T': 'A'}\n",
    "    return ''.join([complement[base] for base in s[::-1]])"
   ]
  },
  {
   "cell_type": "code",
   "execution_count": 5,
   "metadata": {
    "collapsed": false
   },
   "outputs": [],
   "source": [
    "def solve(path):\n",
    "    lines = read_local_file(path)\n",
    "    string = lines[0]\n",
    "    return reverse_and_complement(string)"
   ]
  },
  {
   "cell_type": "code",
   "execution_count": 8,
   "metadata": {
    "collapsed": false
   },
   "outputs": [
    {
     "data": {
      "text/plain": [
       "'ACCGGGTTTT'"
      ]
     },
     "execution_count": 8,
     "metadata": {},
     "output_type": "execute_result"
    }
   ],
   "source": [
    "# Test\n",
    "solve('./txt/rosalind_revc_test.txt')"
   ]
  },
  {
   "cell_type": "code",
   "execution_count": 6,
   "metadata": {
    "collapsed": false
   },
   "outputs": [
    {
     "data": {
      "text/plain": [
       "'GGTTAACATTGTACAGTATGTTTTTGTCGATAAAAACGTAACGAACCAGTGAGCTGAATCGGCTCACCTTATCCACGACTCGCGGGAACTCCACCTTCATGGCAATTAGAAGTTACCGGTTTGACTTGCCCAACGTGATGTTCCCAAATCTGCGACGACGACGACGCCCAGATAAAAGCCAAGTTCACACTTACGGGCCCGAACGGGTTCCCCTAACGCCAACGCGTTATAGTTCGCAGCCCGGAATTCATTCTGCTCATTAACCCGCCCGCCGTAAATCTCTATAACAGTCCTTCAGCTTCTCTGTGGATGTTACGGTCATTGTGATTTATATACTAAGCAGCACGGAGGATCCCATAGTGATCTATGCCTTGTTGTGCGTAGGATCAGTACTTTGGCATCACTCAGGCATGAACACAGAATCCGCGAGTTGTTGGTCTGTCACGTCCGTACCCCCAGGGATCTTGTGCCGCATGCAATCAGGGATGGTCATATAAGTTCAGAACGCCCGCACCGAGTACGCCATACTAGCCCTGAAGTACAATTTGATTGTAAGTCCGTAGACCGGGCTTAGGTGACCATCGAACATCTACGGTTATGTCAATTGTATACGCCGCCCCATGAGGTAAGCATGACTCCTCTACTTACCCAAGCACCATATAGATGATTTTGTGGGGTCGGGAACAAGTACCAGTACTATAGGCACGAAGACCAAGCGATGTTAAGGTGTGTATATTAGCCTTACAAGCCCCGGTTAGCGAGAGTGGGGGTAAATTCCGTCCACCATGCAATAAGGAACAAGCCTTAGTCGTGAACTTGGGCCACGCAGGTCTGTTTGAAGCCGCTGACTTACCTATCTTAACCAAATACCCATGATCCGCCTAAGCTGAAAATACCGCCTGAGAATATGAATGTGAGCCGTTACCCCGCCAAATTACTGGGAACCGTGCCAAGTTGGCGGTATGTTACTGTTACAATGTT'"
      ]
     },
     "execution_count": 6,
     "metadata": {},
     "output_type": "execute_result"
    }
   ],
   "source": [
    "# Submission\n",
    "solve('./txt/rosalind_revc.txt')"
   ]
  }
 ],
 "metadata": {
  "kernelspec": {
   "display_name": "Python 3",
   "language": "python",
   "name": "python3"
  },
  "language_info": {
   "codemirror_mode": {
    "name": "ipython",
    "version": 3
   },
   "file_extension": ".py",
   "mimetype": "text/x-python",
   "name": "python",
   "nbconvert_exporter": "python",
   "pygments_lexer": "ipython3",
   "version": "3.4.3"
  }
 },
 "nbformat": 4,
 "nbformat_minor": 0
}
