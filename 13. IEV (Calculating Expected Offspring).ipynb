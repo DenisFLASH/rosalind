{
 "cells": [
  {
   "cell_type": "code",
   "execution_count": null,
   "metadata": {
    "collapsed": true
   },
   "outputs": [],
   "source": []
  },
  {
   "cell_type": "code",
   "execution_count": 19,
   "metadata": {
    "collapsed": true
   },
   "outputs": [],
   "source": [
    "def calc_offspring_expected_value(couple_numbers):\n",
    "    \"\"\"\n",
    "    Args:\n",
    "        + couple_numbers (list of int)\n",
    "        The integers which correspond to the number of couples \n",
    "        in a population possessing each genotype pairing for a given factor. \n",
    "        In order, the six given integers represent the number of couples having the following genotypes:\n",
    "\n",
    "        AA-AA\n",
    "        AA-Aa\n",
    "        AA-aa\n",
    "        Aa-Aa\n",
    "        Aa-aa\n",
    "        aa-aa\n",
    "\n",
    "    Returns:\n",
    "        (float) \n",
    "        The expected number of offspring displaying the dominant phenotype in the next generation, \n",
    "        under the assumption that every couple has exactly TWO offsprings.\n",
    "    \n",
    "    Example:  \n",
    "        1 0 0 1 0 1  gives an output 3.5\n",
    "    \"\"\"\n",
    "    total_ev = 0\n",
    "    couple_types = [('AA','AA'), ('AA','Aa'), ('AA','aa'), ('Aa','Aa'), ('Aa','aa'), ('aa','aa')]\n",
    "    for couple_type, couple_number in zip(couple_types, couple_numbers):\n",
    "        ev = couple_number * get_prob_offspring_dominant(couple_type) * 2  # as each couple has 2 offsprings\n",
    "        total_ev += ev\n",
    "        print(couple_type, couple_number, ev)\n",
    "    return total_ev\n",
    "    "
   ]
  },
  {
   "cell_type": "code",
   "execution_count": 20,
   "metadata": {
    "collapsed": false
   },
   "outputs": [],
   "source": [
    "def get_prob_offspring_dominant(factor_tuple):\n",
    "    prob_offspring_dominant = {\\\n",
    "                               ('AA','AA'): 1.0,\\\n",
    "                               ('AA','Aa'): 1.0,\\\n",
    "                               ('AA','aa'): 1.0,\\\n",
    "                               ('Aa','Aa'): 0.75,\\\n",
    "                               ('Aa','aa'): 0.5,\\\n",
    "                               ('aa','aa'): 0.0,\\\n",
    "                              }\n",
    "    return prob_offspring_dominant[factor_tuple]"
   ]
  },
  {
   "cell_type": "code",
   "execution_count": 22,
   "metadata": {
    "collapsed": false
   },
   "outputs": [
    {
     "name": "stdout",
     "output_type": "stream",
     "text": [
      "('AA', 'AA') 1 2.0\n",
      "('AA', 'Aa') 0 0.0\n",
      "('AA', 'aa') 0 0.0\n",
      "('Aa', 'Aa') 1 1.5\n",
      "('Aa', 'aa') 0 0.0\n",
      "('aa', 'aa') 1 0.0\n"
     ]
    },
    {
     "data": {
      "text/plain": [
       "3.5"
      ]
     },
     "execution_count": 22,
     "metadata": {},
     "output_type": "execute_result"
    }
   ],
   "source": [
    "# Test\n",
    "calc_offspring_expected_value([1, 0, 0, 1, 0, 1])"
   ]
  },
  {
   "cell_type": "code",
   "execution_count": 23,
   "metadata": {
    "collapsed": false
   },
   "outputs": [
    {
     "name": "stdout",
     "output_type": "stream",
     "text": [
      "('AA', 'AA') 18624 37248.0\n",
      "('AA', 'Aa') 17244 34488.0\n",
      "('AA', 'aa') 17263 34526.0\n",
      "('Aa', 'Aa') 16969 25453.5\n",
      "('Aa', 'aa') 16859 16859.0\n",
      "('aa', 'aa') 18579 0.0\n"
     ]
    },
    {
     "data": {
      "text/plain": [
       "148574.5"
      ]
     },
     "execution_count": 23,
     "metadata": {},
     "output_type": "execute_result"
    }
   ],
   "source": [
    "# Submission\n",
    "calc_offspring_expected_value([18624, 17244, 17263, 16969, 16859, 18579])"
   ]
  }
 ],
 "metadata": {
  "kernelspec": {
   "display_name": "Python 3",
   "language": "python",
   "name": "python3"
  },
  "language_info": {
   "codemirror_mode": {
    "name": "ipython",
    "version": 3
   },
   "file_extension": ".py",
   "mimetype": "text/x-python",
   "name": "python",
   "nbconvert_exporter": "python",
   "pygments_lexer": "ipython3",
   "version": "3.4.3"
  }
 },
 "nbformat": 4,
 "nbformat_minor": 0
}
