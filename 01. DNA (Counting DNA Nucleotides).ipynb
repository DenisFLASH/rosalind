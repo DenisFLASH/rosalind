{
 "cells": [
  {
   "cell_type": "code",
   "execution_count": 1,
   "metadata": {
    "collapsed": true
   },
   "outputs": [],
   "source": [
    "from tools import read_local_file"
   ]
  },
  {
   "cell_type": "code",
   "execution_count": 2,
   "metadata": {
    "collapsed": true
   },
   "outputs": [],
   "source": [
    "def count_nucleotides(string):\n",
    "    string = string.upper()\n",
    "    na = string.count('A')\n",
    "    nc = string.count('C')\n",
    "    ng = string.count('G')\n",
    "    nt = string.count('T')\n",
    "    print(\"{0} {1} {2} {3}\".format(int(na), int(nc), int(ng), int(nt)))"
   ]
  },
  {
   "cell_type": "code",
   "execution_count": 4,
   "metadata": {
    "collapsed": false
   },
   "outputs": [
    {
     "name": "stdout",
     "output_type": "stream",
     "text": [
      "20 12 17 21\n"
     ]
    }
   ],
   "source": [
    "# Test\n",
    "s1 = 'AGCTTTTCATTCTGACTGCAACGGGCAATATGTCTCTGTGTGGATTAAAAAAAGAGTGTCTGATAGCAGC'\n",
    "count_nucleotides(s1)"
   ]
  },
  {
   "cell_type": "code",
   "execution_count": 3,
   "metadata": {
    "collapsed": false
   },
   "outputs": [
    {
     "data": {
      "text/plain": [
       "'GATCAGCGCGCTACCTGGCGACGTTGTGTGAGCACCGAACCACGAGCGGAGGACGCGATCAAGCAAATGTCTCAGCGCAAGCTAAATTGCCTTGCAATCCCACCCATATGGCTAGCAGATACACAAGAACACCCCAGATCTTCACATTCTACCCTACGATAGTAGCGACTTTACAATTAAGGCTACTGACGTGTCCAATTGGTCGACAGGAGCGCGGAATACCGATGCGCCAAGTTCATTCAGCAAAGGCACTACACGCAACCACAAGCCACAAAGTATATGTCGCTAGTCTTCTGGGAGAACATGCGCCAGCGCGCTTTGTAAAATCGCCTATTGGTAACGACGATTGCTGATTTAGCGGGTGTAACTCTCACTTATCCCCGCGAGGAGTTATAGACTTCAAAGTTTCTTGGAATACAGACCAGTTGATGGACGCGGGGCACAGCAGCGTTCGCAATATTCGGGATGGCATGCCTAGTCATGTGTCGCATTATTCGCAGTGGTTCGAGGGGCTTTTTGCAAGGTTAAGCACTCGCGCACTTGTCGCATTGATAGAGCCGCGGCGTAGTAGACAGCACTACTTCGTTACGCATTGGGCTCATGGGCGATCCAACCCTGGAGATGACAACCCGCACATACAGGGGGGTGCTACTGGTTGTCCAATAGGGAATGGCACAATCGCAAGATTAAATGACTCAATTTGTGGACCCTCCCACAGACGGCTGAGGTTACGCGACATCCCTATCCGGGATGCACAAATGGGCAATAGAACTATGTTGACCTTGCGCCCTACTTGAGGAAAATAACAATACAGCCTACGTTGCTCGCAAACCTTAGAAGGTATAAGTCCAGTACGTCACACATTTGATAATTGCCAAGCGAGTCCGCTCATGGAGGAGTTGGGCGGTACTCATGCGAAAAGGCTTGTGCTCCCGCGGGTTGCATGTGACTTAGCATTACCTCCC'"
      ]
     },
     "execution_count": 3,
     "metadata": {},
     "output_type": "execute_result"
    }
   ],
   "source": [
    "# Submission\n",
    "lines = read_local_file('./txt/rosalind_dna.txt')\n",
    "s2 = lines[0]\n",
    "s2"
   ]
  },
  {
   "cell_type": "code",
   "execution_count": 4,
   "metadata": {
    "collapsed": false
   },
   "outputs": [
    {
     "name": "stdout",
     "output_type": "stream",
     "text": [
      "254 247 245 219\n"
     ]
    }
   ],
   "source": [
    "count_nucleotides(s2)"
   ]
  }
 ],
 "metadata": {
  "kernelspec": {
   "display_name": "Python 3",
   "language": "python",
   "name": "python3"
  },
  "language_info": {
   "codemirror_mode": {
    "name": "ipython",
    "version": 3
   },
   "file_extension": ".py",
   "mimetype": "text/x-python",
   "name": "python",
   "nbconvert_exporter": "python",
   "pygments_lexer": "ipython3",
   "version": "3.4.3"
  }
 },
 "nbformat": 4,
 "nbformat_minor": 0
}
