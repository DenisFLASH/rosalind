{
 "cells": [
  {
   "cell_type": "code",
   "execution_count": 11,
   "metadata": {
    "collapsed": true
   },
   "outputs": [],
   "source": [
    "def read_lines(path):\n",
    "    lines = []\n",
    "    with open(path, 'r') as in_file:\n",
    "        for line in in_file:\n",
    "            lines.append(line.strip())\n",
    "    return lines"
   ]
  },
  {
   "cell_type": "code",
   "execution_count": 18,
   "metadata": {
    "collapsed": true
   },
   "outputs": [],
   "source": [
    "def codon_to_amino_acid(codon):\n",
    "    \"\"\"\n",
    "    Translate RNA codon into amino acid letter.\n",
    "    \"\"\"\n",
    "    codon = codon.upper()\n",
    "    table = {'UUU':'F',   'CUU':'L', 'AUU':'I', 'GUU':'V', 'UUC':'F',   'CUC':'L', 'AUC':'I', 'GUC':'V',\\\n",
    "             'UUA':'L',   'CUA':'L', 'AUA':'I', 'GUA':'V', 'UUG':'L',   'CUG':'L', 'AUG':'M', 'GUG':'V',\\\n",
    "             'UCU':'S',   'CCU':'P', 'ACU':'T', 'GCU':'A', 'UCC':'S',   'CCC':'P', 'ACC':'T', 'GCC':'A',\\\n",
    "             'UCA':'S',   'CCA':'P', 'ACA':'T', 'GCA':'A', 'UCG':'S',   'CCG':'P', 'ACG':'T', 'GCG':'A',\\\n",
    "             'UAU':'Y',   'CAU':'H', 'AAU':'N', 'GAU':'D', 'UAC':'Y',   'CAC':'H', 'AAC':'N', 'GAC':'D',\\\n",
    "             'UAA':'Stop','CAA':'Q', 'AAA':'K', 'GAA':'E', 'UAG':'Stop','CAG':'Q', 'AAG':'K', 'GAG':'E',\\\n",
    "             'UGU':'C',   'CGU':'R', 'AGU':'S', 'GGU':'G', 'UGC':'C',   'CGC':'R', 'AGC':'S', 'GGC':'G',\\\n",
    "             'UGA':'Stop','CGA':'R', 'AGA':'R', 'GGA':'G', 'UGG':'W',   'CGG':'R', 'AGG':'R', 'GGG':'G'\\\n",
    "            }\n",
    "    if codon in table:\n",
    "        return table[codon]\n",
    "    else:\n",
    "        raise Exception(\"Unknown codon: {0}\".format(codon))"
   ]
  },
  {
   "cell_type": "code",
   "execution_count": 27,
   "metadata": {
    "collapsed": true
   },
   "outputs": [],
   "source": [
    "def translate_rna_into_protein(rna):\n",
    "    \"\"\"\n",
    "    Translate RNA string into a proteing string.\n",
    "    \"\"\"\n",
    "    protein = ''\n",
    "    n_codons = len(rna) // 3\n",
    "    for i in range(n_codons):\n",
    "        start_pos, end_pos = i * 3, (i+1) * 3\n",
    "        codon = rna[start_pos:end_pos]\n",
    "        amino_acid = codon_to_amino_acid(codon)\n",
    "        if amino_acid == 'Stop':\n",
    "            break\n",
    "        protein += amino_acid\n",
    "    return protein        "
   ]
  },
  {
   "cell_type": "code",
   "execution_count": 28,
   "metadata": {
    "collapsed": false
   },
   "outputs": [
    {
     "data": {
      "text/plain": [
       "'MAMAPRTEINSTRING'"
      ]
     },
     "execution_count": 28,
     "metadata": {},
     "output_type": "execute_result"
    }
   ],
   "source": [
    "# Test\n",
    "string = 'AUGGCCAUGGCGCCCAGAACUGAGAUCAAUAGUACCCGUAUUAACGGGUGA'\n",
    "translate_rna_into_protein(string)"
   ]
  },
  {
   "cell_type": "code",
   "execution_count": 31,
   "metadata": {
    "collapsed": false
   },
   "outputs": [
    {
     "data": {
      "text/plain": [
       "9144"
      ]
     },
     "execution_count": 31,
     "metadata": {},
     "output_type": "execute_result"
    }
   ],
   "source": [
    "# Submission\n",
    "lines = read_lines('./txt/rosalind_prot.txt')\n",
    "string = lines[0]\n",
    "len(string)"
   ]
  },
  {
   "cell_type": "code",
   "execution_count": 38,
   "metadata": {
    "collapsed": false,
    "scrolled": true
   },
   "outputs": [
    {
     "name": "stdout",
     "output_type": "stream",
     "text": [
      "3047\n",
      "MRCNKSYIHHHIQMQRLKRRGLPELGLVCVAAAFALYRKLASGNDVVAGSSKVYESYLASAISLKPKMRSVSGTAACRQDFCYSACWGNPIRICTAILYQSPAQDGVDLLCQVVERYTTRILRRRDTFLGWYRQGGGTNDAVRCDSDLKYSYLAHVEFRLEYIKPYLQSVFVCAAVKLDGEISQPNFISCSDSSLTRVISCRIRPLYNPSREQSKGYFTDKALPIIGVVKGVLPQTVYFPSLVSKESLMLQDLEGIYKVDTPNNSQAVETGNHTQREFRLYYCECWFRIIVIAAIPSFTEGGSPLLYRPAGAASNRQCHAVISKSPNEVSSDFITAPRVFDWVGYDTNLLPGTKAIRLEGIGVKTHAEAYSPKPNPIKTLILIEYGDPHVFSRYPSTRRGFRPDAIQACFVVKYLPGIKFGLVPEFDRTDLSQVIIRATNSNKLPIYSTPTIAMRCSHPKLQRNKYNMRSDCILDKCIEFLGLWVLTARRRVYLDNGFVTCRRFQAFIYPLMCPISQTLHSATRQRQCQQLVACLPEQYSKLYGYVGYKRLNRLRAVRPSKREDRLVGDIALGRCEAVQNSEILGQSHPSPAEYRNISGAVLGQSFVLINNRRTVTLSGHCNVSQSTAGEYASRKFAPVRLIRTHPPHPELVSMRTTPGFLSMRSGRYTQKLSSTTCDLVRILPLSFGVSMPAMALRPANYGTPGAAMTDQTRSSDLQILSYFWLNSIPENFAIQWAPSGHIRGNQIGSTIIFRFFTGGRTEGLLLPNITYVQQQRDEVVGVCRYYYFGLLNPLEIYTTPVLKQVCAPRACVRTHLGNAYLRATRLVDVCPCSLSIVSNADVTNRAHWLATPSIAINPATYRAKCSLICENGYTRAGLPPDAYSAVELFVEFQVYLLGRFTHNCVGVRNLGFRNLVAPSMMCGSAQRGGIAASCTSMDPGHYPLTQTGVYFLKRRYNRNRARPSRSFVSILQSIWMVVISSRTTYVTIGRHEIGIGLDRFEGAARNYPFRLVTIATARSRASAWTPGPRRTASDPTVVIVRVETTFAVASQNDLAELTFDEVQRLNYRVSEKYNSYCIFIYQGYKIGTRFDWPLISTKLPKTQRNRKVRGIVLSSLVPGTPTQLNAVRPSSKCAPLVILHCSVVPTSRHSAHIPLMTDECRSSAILWAQCGSPTARAKLRSWSPDGSIPMAAAACALVGLDPSPIWFFVAVNPLYHHPPPTTFGIPKHSRWICDYSGRQNQRMRVSSKRGWQACLFASFPAIACETNARGLRHSARRSGSMLDRSNPQCKTLTRASPLAGTMTVGYACGVAPKIFQDTLRLVDSLRSFLSFLGCSCANMLGIDFSFGWGPATIARGGSSGSRCTKAVRAFQSGRIKEIGRAETKSLLAAHSPSPRGRDNSQRGRAQVNLALSRISFCMCKVRTASATSRDSVCKCHTKGDIQVEFYLFSERVSFRPYPVGMISNMTETVSSSYTGSIKSTKLLVVPDGSRSLLPRSLGLTRVVAGIKVLGNWDQSDEKSDQSHASAHQATRHKSTSSEQLEGKQRISVSGSERATTHTHVTLGRSSLFGWPQRPHSGQPLVLKSLRLFKVVAVYTNLLTCNEYHLGPCLAHLTQVYVSLGKSIRKDISWPHGSAKHVPPWITTKSLVYPPNACRGHYKIQTGAQDSVWSEIEKWLTSLSGSAGGLAAVIASYTEPLRPTNDQFLFFNPRQDVLVWGWMTEYSQLLNHISSLRCRKCSTATLKLTESIRLRAAHHQAVSVACSIERTDKWCNGIPEHVKRATNKGVVHASKVIRGRPKRASALATNGNLSDLSQVSESVCSRIGPLPHRSRARIGLSCYGCVTFPQTCMPTIRARGLSCIRRPHAAGGDRGVLSAVNESLVSCFRHPESNLHRRRATDNIIDCTIYICAFALQRDNRQFSAVLNLQYISVASKNCQGASRGSSCTKWCAGLFSTTCYDCTQPVARSAAFLHNARLARYHLRSIIGSHHHMTNRTAKRSVTVMVDYRIILNTNPHGMTGGPSSGGGCSLKWEESTGRRHQNLGVSRGLLVANRATSQLAHVFLSDVTTDLAVYRCTVTLKFGFNSLHHRKRVERGESSPRVLSDSCVAFRKTGRWSTGQPCQTICHVGGLRWTNPNRVNVLHTADPAQLNQESLNILLVDRATAIEIGIRQVLVFRKPAHPAGPEMVRNALPELNRPYRIVILYFYELRFQSVTHRMLSRHNYGPYWHPPRTEKRERSRLTPGVLTWTVSLIVRTGGSKHMDQRAADSSTTWVRGQLYNHHSEGCWVRLGYGALIRSTPLRHVKTWLLIDLAPTCQCARCRVKSKCKIGAEGLVPRGEKRFSERLACSCDTSAPEADRLGAKSSWQPKVYRGFLIMPWVADAKSPIGPTSTTSVARGNQYVVGDVLVRRLCDTTRNIVNWSITVPEFSCMSGKRSQCNAVEGIYLGRPDPISILITITAVAPGVGKDRCDLIAVEVYRRVSGSPKGDDTCKARSKATKLFRIIEIPFAALRKLVVACNSYFPGTIEHESFRLVASDAYHSATGGAFAPSIRGASLLVICFPGVRRPPVSAQPGARTEQFKHEHQDRKSCFETMVQLLALANAPLSDNHSYRSYDGSCFTTEVFSSSMVLCCMTVALFTTSAPTSGSVLFTGFVLGIGLRPFINGVCTTELLLEIGMLRSFSSILAPPQTRHLHSQWMGHVSGRCNYVIYTPQLNRLSEKDHFAVTLPGASSLGLARGLTNARVSAPFRYSVETSWILLKSHEAPRSNVSSVRHGKCYRRSSLSDPGRLANNGSTQATRHRSLYVPRLYGKFRALSSVCKDCSTEKSRRKWVCRRRIVASCDGRCLFNCSPKSVPQVKDRIVSVAAPAFLFQRGVADGKEPTEILMFVDYVLMQLGWMVSSALHPPSTPLTRSSYSGSPCDTTDRASPTYRWYQRAHRSRFRSMTSCFVTQVWSSRTRRGLQNCPRLRRKTENERENQYPITAHREALEGNNINLLFLRLGRGATLQWHPQVNVGQATSMSPRTIPDYCFLDPGEPWQAMMAPTTPKRSG\n"
     ]
    }
   ],
   "source": [
    "protein = translate_rna_into_protein(string)\n",
    "print(len(protein))\n",
    "print(protein)"
   ]
  },
  {
   "cell_type": "code",
   "execution_count": null,
   "metadata": {
    "collapsed": true
   },
   "outputs": [],
   "source": []
  }
 ],
 "metadata": {
  "kernelspec": {
   "display_name": "Python 3",
   "language": "python",
   "name": "python3"
  },
  "language_info": {
   "codemirror_mode": {
    "name": "ipython",
    "version": 3
   },
   "file_extension": ".py",
   "mimetype": "text/x-python",
   "name": "python",
   "nbconvert_exporter": "python",
   "pygments_lexer": "ipython3",
   "version": "3.4.3"
  }
 },
 "nbformat": 4,
 "nbformat_minor": 0
}
