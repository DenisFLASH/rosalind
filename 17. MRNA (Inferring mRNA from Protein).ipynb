{
 "cells": [
  {
   "cell_type": "code",
   "execution_count": 4,
   "metadata": {
    "collapsed": true
   },
   "outputs": [],
   "source": [
    "from lookup import amino_acid_to_rna_codon\n",
    "from tools import read_local_file"
   ]
  },
  {
   "cell_type": "markdown",
   "metadata": {
    "collapsed": true
   },
   "source": [
    "Two useful facts in modular arithmetic:\n",
    "\n",
    "if **a≡b mod n** and **c≡d mod n**, then **a+c≡b+d** mod n and **a×c≡b×d** mod n\n",
    "\n",
    "Example, a = 15, b = 5, c = 11, d = 1: a % 10 = b % 10, c % 10 = d % 10 ==> a × c % 10 = b × d % 10\n",
    "\n",
    "Thus, to calculate a1 × a2 × a3 × ... × an   % 1,000,000  we can just calculate the product of ai % 1,000,000, applying % 1,000,000 to every initial terms and after each multiplication ."
   ]
  },
  {
   "cell_type": "code",
   "execution_count": 5,
   "metadata": {
    "collapsed": false
   },
   "outputs": [],
   "source": [
    "def update_product(product, aminoacid, n):\n",
    "    codons = amino_acid_to_rna_codon[aminoacid]\n",
    "    return product * len(codons) % n\n",
    "\n",
    "\n",
    "def solve(path):\n",
    "    lines = read_local_file(path)\n",
    "    protein_string = lines[0]\n",
    "    print(protein_string)\n",
    "    product = 1\n",
    "    n = 1000000\n",
    "    for aa in protein_string:\n",
    "        product = update_product(product, aa, n)\n",
    "    # Different stop codons were possible\n",
    "    product = update_product(product, 'Stop', n)\n",
    "    return product"
   ]
  },
  {
   "cell_type": "code",
   "execution_count": 6,
   "metadata": {
    "collapsed": false
   },
   "outputs": [
    {
     "name": "stdout",
     "output_type": "stream",
     "text": [
      "MA\n"
     ]
    },
    {
     "data": {
      "text/plain": [
       "12"
      ]
     },
     "execution_count": 6,
     "metadata": {},
     "output_type": "execute_result"
    }
   ],
   "source": [
    "# Test\n",
    "solve('./txt/rosalind_mrna_test.txt')"
   ]
  },
  {
   "cell_type": "code",
   "execution_count": 7,
   "metadata": {
    "collapsed": false
   },
   "outputs": [
    {
     "name": "stdout",
     "output_type": "stream",
     "text": [
      "MGMQINAGVKRNLQDTHWFNLKMRTADPDWRYCLAHRHHPDLPNTTCLWVMIQVCIDMESEVRWAPWFRQGFEFTKYLIYPVRDQTLGTGVPSSCKACKIGWHFKKGTPHYIRRVNPAGENCWTAPVRLEICLQDTYCPQDKYAPFGVHEEHDCCPNPFRDIYEGKTEINTGFNAAAKFALAIMPVTYWWQEHPRLQHTNCLKDRYVAPRGINAEDWSPWNTMINSQMKLDTIFSELNGRNYTHGPSHMSCHGGRTIMDHQHQYPDIQFYYVQRFIAPLFNHGLARMNSSDPCQLFTRKLTKRAESQMMWDYTHYKNLRWMCTSGTKRFTYYMAVYMAQWATTTVKLPSIKPSAANANGYWMNLEYPYIMDFQPNPHWQPKHTPFGWLVRPGHLNLWVFHWTEVHSYRVYYWDACMMSFWVMNQWPCHIFMWEAWELKMHEHHPRHACESKAVERYKMIKCDDESMWVHVNKIEAENATGELFLHIAGYSWWKAMRENWYKFFQIFLQWWSVQMLHFDPSDVAVIWYIPGCIFFWHAMSRDFVDSDRHKPCCMQIYRAVTLDYNEHAWMPCTNAQHNHWCKRYYFKSAKYPIGHTYLGHDSWANFSMDVCWPTWCLPNSMREPPWWISNPFVFCHKFNSMEPMSHYWNTWAIVDDRVEGPTFFSLWQKPQHGEMADHQLILIHLLAFKANQGAMHGQYWENMVEYCKNVICSMSLMHLKKFCIIPPVARCGCWYLISHPMGCLKNYKTKAEKQPGSGHDTPCYRCCNYHVEYSHSAVQPYYNVVNTRDVSMTSKSICYFGWRCFHVYEYNSYARHKLYQTRINNKYGHGMNHAPNPFVHGVCADKQLQFENSIKAILEARCWSTGILDVHGYDAPPPLFFSGLVKCNQDTMTYFLIEEAYSPHGSYEMCLVDPKRFYCMIWCFWTRSPGVFSKSHFTMVCLADMHSAVQGDPIQMEWDCRLETCSYMTRLEHWPCAKVFLQNRVVSMAAQMTENGDMSKD\n"
     ]
    },
    {
     "data": {
      "text/plain": [
       "724224"
      ]
     },
     "execution_count": 7,
     "metadata": {},
     "output_type": "execute_result"
    }
   ],
   "source": [
    "# Submission\n",
    "solve('./txt/rosalind_mrna.txt')"
   ]
  }
 ],
 "metadata": {
  "kernelspec": {
   "display_name": "Python 3",
   "language": "python",
   "name": "python3"
  },
  "language_info": {
   "codemirror_mode": {
    "name": "ipython",
    "version": 3
   },
   "file_extension": ".py",
   "mimetype": "text/x-python",
   "name": "python",
   "nbconvert_exporter": "python",
   "pygments_lexer": "ipython3",
   "version": "3.4.3"
  }
 },
 "nbformat": 4,
 "nbformat_minor": 0
}
