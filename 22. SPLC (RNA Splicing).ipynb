{
 "cells": [
  {
   "cell_type": "code",
   "execution_count": 1,
   "metadata": {
    "collapsed": false
   },
   "outputs": [],
   "source": [
    "from tools import read_fasta_file, transcribe_DNA_to_RNA, translate_RNA_into_protein"
   ]
  },
  {
   "cell_type": "code",
   "execution_count": 2,
   "metadata": {
    "collapsed": true
   },
   "outputs": [],
   "source": [
    "def solve(path):\n",
    "    d = read_fasta_file(path)\n",
    "    keys = list(d.keys())\n",
    "    dna = d[keys[0]]\n",
    "    introns = [d[key] for key in keys[1:]]\n",
    "    pre_mrna = transcribe_DNA_to_RNA(dna)\n",
    "    for intron in introns:\n",
    "        pre_mrna = pre_mrna.replace(transcribe_DNA_to_RNA(intron), '')\n",
    "    mrna = pre_mrna[:]\n",
    "    return translate_RNA_into_protein(mrna)"
   ]
  },
  {
   "cell_type": "code",
   "execution_count": 3,
   "metadata": {
    "collapsed": false
   },
   "outputs": [
    {
     "data": {
      "text/plain": [
       "'MVYIADKQHVASREAYGHMFKVCA'"
      ]
     },
     "execution_count": 3,
     "metadata": {},
     "output_type": "execute_result"
    }
   ],
   "source": [
    "solve('./txt/rosalind_splc_test.txt')"
   ]
  },
  {
   "cell_type": "code",
   "execution_count": 5,
   "metadata": {
    "collapsed": false
   },
   "outputs": [
    {
     "data": {
      "text/plain": [
       "'MFANKLFSTDSQSITRGIYMRPSNRNGLAGKETIWLTVRGRVERSKAEMGPWDVLPVNACVKPGRTSRSFRMVYSNYRIAHAGAARRYFVSLRRTKDTSSGGTLIRQQGETLCGCSKVKLSPVKREMAERVYGHRNHHPRRYMRLKIPSKGNSVYRVCSWLHMVLLPASFVNGHLDEFKPSKSFSVSNCGPMEARE'"
      ]
     },
     "execution_count": 5,
     "metadata": {},
     "output_type": "execute_result"
    }
   ],
   "source": [
    "solve('./txt/rosalind_splc.txt')"
   ]
  }
 ],
 "metadata": {
  "kernelspec": {
   "display_name": "Python 3",
   "language": "python",
   "name": "python3"
  },
  "language_info": {
   "codemirror_mode": {
    "name": "ipython",
    "version": 3
   },
   "file_extension": ".py",
   "mimetype": "text/x-python",
   "name": "python",
   "nbconvert_exporter": "python",
   "pygments_lexer": "ipython3",
   "version": "3.4.3"
  }
 },
 "nbformat": 4,
 "nbformat_minor": 0
}
