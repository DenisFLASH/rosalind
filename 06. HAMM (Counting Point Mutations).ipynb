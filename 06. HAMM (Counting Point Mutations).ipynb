{
 "cells": [
  {
   "cell_type": "code",
   "execution_count": 1,
   "metadata": {
    "collapsed": true
   },
   "outputs": [],
   "source": [
    "def read_lines(path):\n",
    "    lines = []\n",
    "    with open(path, \"r\") as in_file:\n",
    "        for line in in_file:\n",
    "            lines.append(line.strip())\n",
    "    return lines"
   ]
  },
  {
   "cell_type": "code",
   "execution_count": 5,
   "metadata": {
    "collapsed": true
   },
   "outputs": [],
   "source": [
    "def hamming(s1, s2):\n",
    "    if len(s1) != len(s2):\n",
    "        raise Exception(\"Strings must be of the same size! {0} and {1} found\".format(str(len(s1)), str(len(s2))))\n",
    "    s1 = s1.upper()\n",
    "    s2 = s2.upper()\n",
    "    dh = 0\n",
    "    for i in range(len(s1)):\n",
    "        if s1[i] != s2[i]:\n",
    "            dh += 1\n",
    "    return dh"
   ]
  },
  {
   "cell_type": "code",
   "execution_count": 10,
   "metadata": {
    "collapsed": false
   },
   "outputs": [
    {
     "data": {
      "text/plain": [
       "['GGACACTATACATATCCATAAGGTTAGTCTGGAGGACATAAATACCGCTAGGAATTTTGAAATGTGAAAGCTGATCCGGTGTCGTCTTAGGATATGTTGAAATCCAGCATGCTAAGGTCCATAGGTCACCTATCCCCGAGGTACTGTGTCCTAATGCACCGGCTTAGGTACCCCAGTAATCCCCACCTGGCAATTTCCTATATTTGTCAGAGCCGCCAACTTTCACCGTCAATCATTAGTCAATTCGTAGCCTATATTCAGATTTTGAACGAACGGCAGAACCCGCCCGTCCGAACTCGGAGCGTTTGGCGCATAAGATACTTGCTCGTATTCAGGGTTTACCAAAGTCCCCACGCCGCCAAAAGCCACCTAACATAGGGCCGGCCAGCCGTAGTCGAGAGAAGCGCGAGGGCTTCAGCAAGTGTCGCGAAGAGACAGCGAAAATTGGTATGGCGGGTACGGTTGATTTAGTATGCTCCAGGTCGGGAGTCCCCCAAACGGCGAGCAAAAGCACTAAGCGCTGTAAGGGGTAACCTGGTAGCTACCTACTGACAGACCCCCGCAGGAACCCGGAGTGACCACGAAGATAATTAAGAACGTACAGTAGCCTTCGTATTGTTCGTCCCCAGCTACCCCACATAGAACCCCAACCTGATATCAGTATGCGATTCTTCACAGAACATGCGTCGTTTTCAATAGAGCGACGATCTAGCACCGCATGTTGCCCGCATATCGGTAATAAGCGGCTTGCAGCCGTACGAGGTCACGTTCGACCGGAATAAAGTAGCGTTCGTGTCCGATTAGCCCATTCACATACGGGACTGGGACGGGATACCCTCAATCCCCATGAGAATGGAGGGGGTTAAGCACCAACCTGCGACTACTTCGCCGAGCGCGGTGGGCCTATCCGAATTAGGTTTC',\n",
       " 'GGGTGCTCTGCGGATCCATAATGTCCCTATCCATCACATCCTACACTCTGAGAGGGTTAAAGTGTGGCGGGCGTTCACGTGTGGTACTAGTATAGGAGTAAGTATGGATTGCGGACTGCGATAATCCGCCACTACACGAGGTCCTGAGTACTCTTGCTTAGACATTGGAGCCCAATAAGAGGGCTTCATGAAATCCACCAGATAGCTTCGTGTAGCTAGGTTTTACAGTGATAGTCCTCTCAATATGCAGGCAGATTTCAGCTGTTCCATTAGATGCGGTTGCGGCCCGATAGTAAGCGCTACTTAGGGCACCTAATTGGCATACCTCAACTTAGGATATCCCACCTCTCCATCGACCGCACAAGCCATCTGACTATTGGATGGGTACCCATATAAGGGATATGTGAGCCGACTGCTGCAAGTGTCGGGGAAAGGAAGCCCGACTAGGTAGGCCTTTCACCACGTATTCCCTCGGATAGGGCCCGCTAAATTCCAAAATGTCTATTAAAAGCCCGTGACGCGGTGGGTGCGAACGTCATATCGGATGAGCGACCGACCCCCGTAGAAAGGTTGTTTAGGGCCGGAGAAAATCCAGAACAACTTACATCGTGCGGCTGGAGTTTGGCATCGACCCTCAAATCGTCACTCAAACTTTGCCCTGAATTCACTACATCAAACTGAAGGCGACCTTTTCAATCGCACGCCGCAGCATAACCATCCATAGTTGACAAATCGGTTAGACACGTTCGGTAACCGTACGACGCCATGCTATACTGTATTGCGTTGAGACAAGTGTCGGAGAAAGGCATCTCGATTCAGCGGCCGAATGAGATGCATCAACACCTCAGGGATATGTGGGGGATTTACCACCAGACAATGCGTGGTTCGGACAAGTTGGGGGAACTCGCAGCTTAAGGGTTC']"
      ]
     },
     "execution_count": 10,
     "metadata": {},
     "output_type": "execute_result"
    }
   ],
   "source": [
    "#lines = read_lines(\"./txt/rosalind_hamm_test.txt\")\n",
    "lines = read_lines(\"./txt/rosalind_hamm.txt\")\n",
    "lines"
   ]
  },
  {
   "cell_type": "code",
   "execution_count": 12,
   "metadata": {
    "collapsed": false
   },
   "outputs": [],
   "source": [
    "s1, s2 = lines[0], lines[1]"
   ]
  },
  {
   "cell_type": "code",
   "execution_count": 13,
   "metadata": {
    "collapsed": false
   },
   "outputs": [
    {
     "data": {
      "text/plain": [
       "457"
      ]
     },
     "execution_count": 13,
     "metadata": {},
     "output_type": "execute_result"
    }
   ],
   "source": [
    "hamming(s1, s2)"
   ]
  },
  {
   "cell_type": "code",
   "execution_count": 22,
   "metadata": {
    "collapsed": false
   },
   "outputs": [
    {
     "ename": "TypeError",
     "evalue": "object of type 'filter' has no len()",
     "output_type": "error",
     "traceback": [
      "\u001b[1;31m---------------------------------------------------------------------------\u001b[0m",
      "\u001b[1;31mTypeError\u001b[0m                                 Traceback (most recent call last)",
      "\u001b[1;32m<ipython-input-22-fb50925efefa>\u001b[0m in \u001b[0;36m<module>\u001b[1;34m()\u001b[0m\n\u001b[1;32m----> 1\u001b[1;33m \u001b[0mlen\u001b[0m\u001b[1;33m(\u001b[0m\u001b[0mfilter\u001b[0m\u001b[1;33m(\u001b[0m\u001b[1;32mlambda\u001b[0m \u001b[0mpair\u001b[0m\u001b[1;33m:\u001b[0m \u001b[0mpair\u001b[0m\u001b[1;33m[\u001b[0m\u001b[1;36m0\u001b[0m\u001b[1;33m]\u001b[0m \u001b[1;33m!=\u001b[0m \u001b[0mpair\u001b[0m\u001b[1;33m[\u001b[0m\u001b[1;36m1\u001b[0m\u001b[1;33m]\u001b[0m\u001b[1;33m,\u001b[0m \u001b[0mzip\u001b[0m\u001b[1;33m(\u001b[0m\u001b[0mlist\u001b[0m\u001b[1;33m(\u001b[0m\u001b[0ms1\u001b[0m\u001b[1;33m)\u001b[0m\u001b[1;33m,\u001b[0m \u001b[0mlist\u001b[0m\u001b[1;33m(\u001b[0m\u001b[0ms2\u001b[0m\u001b[1;33m)\u001b[0m\u001b[1;33m)\u001b[0m \u001b[1;33m)\u001b[0m\u001b[1;33m)\u001b[0m\u001b[1;33m\u001b[0m\u001b[0m\n\u001b[0m",
      "\u001b[1;31mTypeError\u001b[0m: object of type 'filter' has no len()"
     ]
    }
   ],
   "source": [
    "len(filter(lambda pair: pair[0] != pair[1], zip(list(s1), list(s2)) ))"
   ]
  },
  {
   "cell_type": "code",
   "execution_count": null,
   "metadata": {
    "collapsed": true
   },
   "outputs": [],
   "source": []
  }
 ],
 "metadata": {
  "kernelspec": {
   "display_name": "Python 3",
   "language": "python",
   "name": "python3"
  },
  "language_info": {
   "codemirror_mode": {
    "name": "ipython",
    "version": 3
   },
   "file_extension": ".py",
   "mimetype": "text/x-python",
   "name": "python",
   "nbconvert_exporter": "python",
   "pygments_lexer": "ipython3",
   "version": "3.4.3"
  }
 },
 "nbformat": 4,
 "nbformat_minor": 0
}
