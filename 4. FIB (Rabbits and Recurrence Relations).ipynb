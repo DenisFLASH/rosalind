{
 "cells": [
  {
   "cell_type": "code",
   "execution_count": 5,
   "metadata": {
    "collapsed": true
   },
   "outputs": [],
   "source": [
    "def fib(n, k=1):\n",
    "    a, b = 1, 0\n",
    "    for i in range(n):\n",
    "        # New number of rabbits \n",
    "        #    = \n",
    "        #    number of rabits on the previous step (`a`) \n",
    "        #    + \n",
    "        #    number of new born rabbits, which is  number of reproduction-age rabbit pairs \n",
    "        #    (or the number of rabbits alive 2 steps ago, `b`) multiplied by `k` (how many pairs does 1 pair produce per step).\n",
    "        a, b = a + k*b, a\n",
    "    return b"
   ]
  },
  {
   "cell_type": "code",
   "execution_count": 2,
   "metadata": {
    "collapsed": true
   },
   "outputs": [],
   "source": [
    "def fib_recursive(n, k=1):\n",
    "    if n == 1 or n == 2:\n",
    "        return 1\n",
    "    return fib_recursive(n-1, k) + k * fib_recursive(n-2, k)"
   ]
  },
  {
   "cell_type": "code",
   "execution_count": 11,
   "metadata": {
    "collapsed": false
   },
   "outputs": [],
   "source": [
    "def fib_recursive_with_memory(n, k):\n",
    "    if (n, k) in memo:\n",
    "        return memo[(n, k)]\n",
    "    else:\n",
    "        if n == 1 or n == 2:\n",
    "            return 1\n",
    "        else:\n",
    "            answer = fib_recursive_with_memory(n-1, k) + k * fib_recursive_with_memory(n-2, k)\n",
    "            # Momorizing the result\n",
    "            memo[(n, k)] = answer\n",
    "            return answer"
   ]
  },
  {
   "cell_type": "code",
   "execution_count": 18,
   "metadata": {
    "collapsed": false
   },
   "outputs": [
    {
     "data": {
      "text/plain": [
       "19"
      ]
     },
     "execution_count": 18,
     "metadata": {},
     "output_type": "execute_result"
    }
   ],
   "source": [
    "# Test\n",
    "fib(5, 3)"
   ]
  },
  {
   "cell_type": "code",
   "execution_count": 3,
   "metadata": {
    "collapsed": false
   },
   "outputs": [
    {
     "data": {
      "text/plain": [
       "19"
      ]
     },
     "execution_count": 3,
     "metadata": {},
     "output_type": "execute_result"
    }
   ],
   "source": [
    "fib_recursive(5, 3)"
   ]
  },
  {
   "cell_type": "code",
   "execution_count": 13,
   "metadata": {
    "collapsed": false
   },
   "outputs": [
    {
     "data": {
      "text/plain": [
       "40238153982301"
      ]
     },
     "execution_count": 13,
     "metadata": {},
     "output_type": "execute_result"
    }
   ],
   "source": [
    "# Submission\n",
    "fib(32, 5)"
   ]
  },
  {
   "cell_type": "code",
   "execution_count": 22,
   "metadata": {
    "collapsed": false
   },
   "outputs": [
    {
     "name": "stdout",
     "output_type": "stream",
     "text": [
      "222232244629420445529739893461909967206666939096499764990979600 0.0\n",
      "222232244629420445529739893461909967206666939096499764990979600 0.0\n"
     ]
    }
   ],
   "source": [
    "# performance tests\n",
    "import time\n",
    "n = 300\n",
    "k = 1\n",
    "T0 = time.time()\n",
    "res1 = fib(n, k)\n",
    "T1 = time.time()\n",
    "print(res1, T1-T0)\n",
    "#res2 = fib_recursive(n, k)\n",
    "T2 = time.time()\n",
    "#print(res2, T2-T1)\n",
    "\n",
    "memo = {} # Global variable\n",
    "res3 = fib_recursive_with_memory(n, k)\n",
    "T3 = time.time()\n",
    "print(res3, T3-T2)"
   ]
  },
  {
   "cell_type": "code",
   "execution_count": null,
   "metadata": {
    "collapsed": true
   },
   "outputs": [],
   "source": []
  }
 ],
 "metadata": {
  "kernelspec": {
   "display_name": "Python 3",
   "language": "python",
   "name": "python3"
  },
  "language_info": {
   "codemirror_mode": {
    "name": "ipython",
    "version": 3
   },
   "file_extension": ".py",
   "mimetype": "text/x-python",
   "name": "python",
   "nbconvert_exporter": "python",
   "pygments_lexer": "ipython3",
   "version": "3.4.3"
  }
 },
 "nbformat": 4,
 "nbformat_minor": 0
}
